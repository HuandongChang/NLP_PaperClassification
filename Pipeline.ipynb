{
 "cells": [
  {
   "cell_type": "markdown",
   "metadata": {},
   "source": [
    "# Table of Contents\n",
    "\n",
    "* [Data Import](#dataimport)\n",
    "* [Data Preparation](#datapreparation)\n",
    "* [Model 1: LSTM](#lstm)\n",
    "    * [Model Building and Training](#build)\n",
    "    * [Result Analysis](#result)\n",
    "* [Model 2: DistilBERT](#bert)\n",
    "    * [Model Building and Training](#berttraining)\n",
    "    * [Result Analysis](#bertresult)\n",
    "* [Conclusion](#conclusion)\n",
    "\n",
    "\n"
   ]
  },
  {
   "cell_type": "markdown",
   "metadata": {
    "id": "c48l7pE6Osfp"
   },
   "source": [
    "# Data Import <a class=\"anchor\" id=\"dataimport\"></a>"
   ]
  },
  {
   "cell_type": "code",
   "execution_count": null,
   "metadata": {
    "colab": {
     "base_uri": "https://localhost:8080/"
    },
    "id": "NMvKWb0j1FrS",
    "outputId": "960b294c-4795-4505-86ae-8551371031c2"
   },
   "outputs": [],
   "source": [
    "# Install all requirements for the code\n",
    "!pip install -q opendatasets\n",
    "!pip install -q tensorflow_text\n",
    "!pip install -q transformers"
   ]
  },
  {
   "cell_type": "code",
   "execution_count": 2,
   "metadata": {
    "colab": {
     "base_uri": "https://localhost:8080/"
    },
    "id": "ndQjHvgXz6Pw",
    "outputId": "fc8d63a5-92c5-4081-ead2-ddcc65682d62"
   },
   "outputs": [
    {
     "name": "stdout",
     "output_type": "stream",
     "text": [
      "Downloading arxiv.zip to ./arxiv\n"
     ]
    },
    {
     "name": "stderr",
     "output_type": "stream",
     "text": [
      "100%|██████████| 1.04G/1.04G [00:58<00:00, 19.2MB/s]\n"
     ]
    },
    {
     "name": "stdout",
     "output_type": "stream",
     "text": [
      "\n"
     ]
    }
   ],
   "source": [
    "# Download the dataset from Kaggle\n",
    "import opendatasets as od\n",
    "od.download(\"https://www.kaggle.com/Cornell-University/arxiv?select=arxiv-metadata-oai-snapshot.json\")"
   ]
  },
  {
   "cell_type": "markdown",
   "metadata": {
    "id": "h-KM_8-faoks"
   },
   "source": [
    "# Data Preparation<a class=\"anchor\" id=\"datapreparation\"></a>"
   ]
  },
  {
   "cell_type": "code",
   "execution_count": 8,
   "metadata": {
    "id": "9U1Y3snWVd6z"
   },
   "outputs": [],
   "source": [
    "# Data Import\n",
    "import json\n",
    "import pandas as pd\n",
    "import opendatasets as od\n",
    "\n",
    "# Data Preparation\n",
    "import numpy as np\n",
    "from sklearn.model_selection import train_test_split\n",
    "from tensorflow.keras.utils import to_categorical\n",
    "\n",
    "# Data Visualization\n",
    "import seaborn as sns\n",
    "import matplotlib.pyplot as plt\n",
    "\n",
    "\n",
    "# Model\n",
    "import tensorflow as tf\n",
    "import torch"
   ]
  },
  {
   "cell_type": "code",
   "execution_count": 9,
   "metadata": {
    "id": "bOf2Xb2G2XBL"
   },
   "outputs": [],
   "source": [
    "# Get the data\n",
    "data_arxiv = './arxiv/arxiv-metadata-oai-snapshot.json'"
   ]
  },
  {
   "cell_type": "code",
   "execution_count": null,
   "metadata": {
    "colab": {
     "base_uri": "https://localhost:8080/"
    },
    "id": "zFG0PUo0qBxL",
    "outputId": "28527440-cbcc-4f12-c908-52141dfbac93"
   },
   "outputs": [],
   "source": [
    "NUM_ARTICLES = 15000 # We only choose a subset of 1.7 million articles in data_arxiv\n",
    "# Create a pandas dataframe\n",
    "arxiv_x = pd.DataFrame(columns=['abstract'])\n",
    "cats2 = ['Computer Science','Math','Physics','Quant. Bio','Statistics']\n",
    "arxiv_y = pd.DataFrame(columns=cats2)\n",
    "counts = [0,0,0,0,0]\n",
    "cats = ['cs.','math.','ph','q-bio.','stat.']\n",
    "done = False\n",
    "with open(data_arxiv) as f:\n",
    "  # Read through each article\n",
    "  nextline = f.readline()\n",
    "  while not done and nextline:\n",
    "    # Add the article to the dataframe\n",
    "    line = json.loads(nextline)\n",
    "    cat = line['categories']\n",
    "    res = [ele for ele in cats if ele in cat]\n",
    "    if len(res) == 1:\n",
    "      ind = cats.index(res[0])\n",
    "      if counts[ind] < 3000:\n",
    "        arr = [0 for i in range(5)]\n",
    "        arr[ind] = 1\n",
    "        arxiv_x = arxiv_x.append({'abstract': line['abstract']}, ignore_index=True)\n",
    "        arxiv_y = arxiv_y.append({'Computer Science':arr[0], 'Math':arr[1],'Physics':arr[2],'Quant. Bio':arr[3],'Statistics':arr[4]}, ignore_index=True)\n",
    "        counts[ind] += 1\n",
    "\n",
    "        if sum(counts) >= NUM_ARTICLES:\n",
    "          done = True\n",
    "    nextline = f.readline()\n",
    "print(counts)"
   ]
  },
  {
   "cell_type": "code",
   "execution_count": 11,
   "metadata": {
    "colab": {
     "base_uri": "https://localhost:8080/",
     "height": 424
    },
    "id": "f-xNrXf1zpC9",
    "outputId": "bdf713d6-7081-4b20-e798-5d4227c9f83a"
   },
   "outputs": [
    {
     "data": {
      "text/html": [
       "<div>\n",
       "<style scoped>\n",
       "    .dataframe tbody tr th:only-of-type {\n",
       "        vertical-align: middle;\n",
       "    }\n",
       "\n",
       "    .dataframe tbody tr th {\n",
       "        vertical-align: top;\n",
       "    }\n",
       "\n",
       "    .dataframe thead th {\n",
       "        text-align: right;\n",
       "    }\n",
       "</style>\n",
       "<table border=\"1\" class=\"dataframe\">\n",
       "  <thead>\n",
       "    <tr style=\"text-align: right;\">\n",
       "      <th></th>\n",
       "      <th>abstract</th>\n",
       "    </tr>\n",
       "  </thead>\n",
       "  <tbody>\n",
       "    <tr>\n",
       "      <th>0</th>\n",
       "      <td>A fully differential calculation in perturba...</td>\n",
       "    </tr>\n",
       "    <tr>\n",
       "      <th>1</th>\n",
       "      <td>We show that a determinant of Stirling cycle...</td>\n",
       "    </tr>\n",
       "    <tr>\n",
       "      <th>2</th>\n",
       "      <td>In this paper we show how to compute the $\\L...</td>\n",
       "    </tr>\n",
       "    <tr>\n",
       "      <th>3</th>\n",
       "      <td>We discuss the results from the combined IRA...</td>\n",
       "    </tr>\n",
       "    <tr>\n",
       "      <th>4</th>\n",
       "      <td>Partial cubes are isometric subgraphs of hyp...</td>\n",
       "    </tr>\n",
       "    <tr>\n",
       "      <th>...</th>\n",
       "      <td>...</td>\n",
       "    </tr>\n",
       "    <tr>\n",
       "      <th>14995</th>\n",
       "      <td>The concept of refinement from probability e...</td>\n",
       "    </tr>\n",
       "    <tr>\n",
       "      <th>14996</th>\n",
       "      <td>This paper introduces a spatio-temporal reso...</td>\n",
       "    </tr>\n",
       "    <tr>\n",
       "      <th>14997</th>\n",
       "      <td>The joint modeling of longitudinal and time-...</td>\n",
       "    </tr>\n",
       "    <tr>\n",
       "      <th>14998</th>\n",
       "      <td>Background: Recent studies have shown a decr...</td>\n",
       "    </tr>\n",
       "    <tr>\n",
       "      <th>14999</th>\n",
       "      <td>PReMiuM is a recently developed R package fo...</td>\n",
       "    </tr>\n",
       "  </tbody>\n",
       "</table>\n",
       "<p>15000 rows × 1 columns</p>\n",
       "</div>"
      ],
      "text/plain": [
       "                                                abstract\n",
       "0        A fully differential calculation in perturba...\n",
       "1        We show that a determinant of Stirling cycle...\n",
       "2        In this paper we show how to compute the $\\L...\n",
       "3        We discuss the results from the combined IRA...\n",
       "4        Partial cubes are isometric subgraphs of hyp...\n",
       "...                                                  ...\n",
       "14995    The concept of refinement from probability e...\n",
       "14996    This paper introduces a spatio-temporal reso...\n",
       "14997    The joint modeling of longitudinal and time-...\n",
       "14998    Background: Recent studies have shown a decr...\n",
       "14999    PReMiuM is a recently developed R package fo...\n",
       "\n",
       "[15000 rows x 1 columns]"
      ]
     },
     "execution_count": 11,
     "metadata": {},
     "output_type": "execute_result"
    }
   ],
   "source": [
    "arxiv_x"
   ]
  },
  {
   "cell_type": "code",
   "execution_count": 12,
   "metadata": {
    "id": "WgTklK22zL3i"
   },
   "outputs": [],
   "source": [
    "#  This function will remove all the occurrences of newlines, tabs, and combinations like \\\\n.\n",
    "def remove_newlines_tabs(text):\n",
    "    # Replacing all the occurrences of \\n,\\\\n,\\t,\\\\ with a space.\n",
    "    Formatted_text = text.replace('\\\\n', ' ').replace('\\n', ' ').replace('\\t',' ')\n",
    "    return Formatted_text\n",
    "    \n",
    "arxiv_x = arxiv_x.applymap(remove_newlines_tabs)"
   ]
  },
  {
   "cell_type": "code",
   "execution_count": 13,
   "metadata": {
    "id": "-9OK0eK87A2f"
   },
   "outputs": [],
   "source": [
    "# Split Data into training and testing subsets (stratify by arxiv_y)\n",
    "x_train, x_test, y_train, y_test = train_test_split(arxiv_x,arxiv_y,test_size = 0.2, stratify = arxiv_y)"
   ]
  },
  {
   "cell_type": "code",
   "execution_count": 14,
   "metadata": {
    "id": "EhUGSL-HPZy7"
   },
   "outputs": [],
   "source": [
    "# convert y_train from pd.dataframe to np.ndarray to fit the model.fit() format requirement\n",
    "y_train = np.asarray(y_train).astype(np.int32)\n",
    "y_test = np.asarray(y_test).astype(np.int32)"
   ]
  },
  {
   "cell_type": "markdown",
   "metadata": {
    "id": "25-UU3u0kfG8"
   },
   "source": [
    "# Model 1: LSTM <a class=\"anchor\" id=\"lstm\"></a>\n"
   ]
  },
  {
   "cell_type": "markdown",
   "metadata": {
    "id": "lGVSj4ArCdgX"
   },
   "source": [
    "## Build and Train LSTM Model <a class=\"anchor\" id=\"build\"></a>"
   ]
  },
  {
   "cell_type": "code",
   "execution_count": null,
   "metadata": {
    "id": "wggeYgzKkdnd"
   },
   "outputs": [],
   "source": [
    "def plot_graphs(history, metric):\n",
    "  plt.plot(history.history[metric])\n",
    "  plt.plot(history.history['val_'+metric], '')\n",
    "  plt.xlabel(\"Epochs\")\n",
    "  plt.ylabel(metric)\n",
    "  plt.legend([metric, 'val_'+metric])"
   ]
  },
  {
   "cell_type": "code",
   "execution_count": null,
   "metadata": {
    "colab": {
     "base_uri": "https://localhost:8080/",
     "height": 339
    },
    "id": "81wh8WhxOcau",
    "outputId": "62c77d9e-45c5-4369-8946-e3bf6243c0eb"
   },
   "outputs": [
    {
     "name": "stderr",
     "output_type": "stream",
     "text": [
      "/usr/local/lib/python3.7/dist-packages/seaborn/distributions.py:2619: FutureWarning: `distplot` is a deprecated function and will be removed in a future version. Please adapt your code to use either `displot` (a figure-level function with similar flexibility) or `histplot` (an axes-level function for histograms).\n",
      "  warnings.warn(msg, FutureWarning)\n"
     ]
    },
    {
     "data": {
      "text/plain": [
       "<matplotlib.axes._subplots.AxesSubplot at 0x7f01b0841a50>"
      ]
     },
     "execution_count": 90,
     "metadata": {},
     "output_type": "execute_result"
    },
    {
     "data": {
      "image/png": "[encoded data removed]",
      "text/plain": [
       "<Figure size 432x288 with 1 Axes>"
      ]
     },
     "metadata": {
      "needs_background": "light"
     },
     "output_type": "display_data"
    }
   ],
   "source": [
    "lengths = []\n",
    "for i in range(x_train.values.shape[0]):\n",
    "  lengths.append(len(x_train['abstract'].values[i].split()))\n",
    "\n",
    "sns.distplot(lengths) \n",
    "# From the plot we can see most sentences have length less than 250. Therefore, we will set MAX_SEQUENCE_LENGTH = 250"
   ]
  },
  {
   "cell_type": "code",
   "execution_count": null,
   "metadata": {
    "colab": {
     "base_uri": "https://localhost:8080/"
    },
    "id": "I7kj35JYkdSS",
    "outputId": "70a67151-0c91-4186-d771-97382a72919b"
   },
   "outputs": [
    {
     "name": "stdout",
     "output_type": "stream",
     "text": [
      "Found 57858 unique tokens.\n",
      "Found 14327 unique tokens appearing at least five times.\n"
     ]
    }
   ],
   "source": [
    "from tensorflow.keras.preprocessing.text import Tokenizer\n",
    "# The maximum number of words to be used. (each word appears at least five times in the following tokenizer)\n",
    "MAX_NB_WORDS = 14500\n",
    "# Max number of words in each complaint.\n",
    "MAX_SEQUENCE_LENGTH = 250\n",
    "# Words will be embedded into 30 dimensional space.\n",
    "EMBEDDING_DIM = 30\n",
    "\n",
    "# we customize the filters here such that mathematical operations (such as addition and exponent are kept)\n",
    "tokenizer = Tokenizer(num_words=MAX_NB_WORDS, filters='!\"#$&()\\,.:;?@[]_`{|}~', lower=True)\n",
    "tokenizer.fit_on_texts(x_train['abstract'])\n",
    "word_index = tokenizer.word_index\n",
    "print('Found %s unique tokens.' % len(word_index))\n",
    "\n",
    "lst_cnt = list(tokenizer.word_counts.values())\n",
    "lst_cnt = [x for x in lst_cnt if x > 4]\n",
    "print('Found %s unique tokens appearing at least five times.' % len(lst_cnt))"
   ]
  },
  {
   "cell_type": "code",
   "execution_count": null,
   "metadata": {
    "colab": {
     "base_uri": "https://localhost:8080/"
    },
    "id": "EwdY--OJnb50",
    "outputId": "7d05dba1-c360-4a9c-bae3-d9dcf9079da4"
   },
   "outputs": [
    {
     "name": "stdout",
     "output_type": "stream",
     "text": [
      "Shape of data tensor: (12000, 250)\n"
     ]
    }
   ],
   "source": [
    "from tensorflow.keras.preprocessing.sequence import pad_sequences\n",
    "X = tokenizer.texts_to_sequences(x_train['abstract'])\n",
    "X = pad_sequences(X, maxlen=MAX_SEQUENCE_LENGTH)\n",
    "print('Shape of data tensor:', X.shape)"
   ]
  },
  {
   "cell_type": "code",
   "execution_count": null,
   "metadata": {
    "colab": {
     "base_uri": "https://localhost:8080/"
    },
    "id": "3ZFBzodPnbqw",
    "outputId": "d0a9e833-e1ce-4a1e-f8a6-609c047915d6"
   },
   "outputs": [
    {
     "name": "stdout",
     "output_type": "stream",
     "text": [
      "Epoch 1/30\n",
      "141/141 [==============================] - 110s 756ms/step - loss: 1.3396 - accuracy: 0.4087 - val_loss: 0.9938 - val_accuracy: 0.5980\n",
      "Epoch 2/30\n",
      "141/141 [==============================] - 108s 763ms/step - loss: 0.7941 - accuracy: 0.7061 - val_loss: 0.7423 - val_accuracy: 0.7427\n",
      "Epoch 3/30\n",
      "141/141 [==============================] - 107s 757ms/step - loss: 0.4935 - accuracy: 0.8374 - val_loss: 0.7180 - val_accuracy: 0.7177\n",
      "Epoch 4/30\n",
      "141/141 [==============================] - 105s 748ms/step - loss: 0.5282 - accuracy: 0.8227 - val_loss: 0.5709 - val_accuracy: 0.8283\n",
      "Epoch 5/30\n",
      "141/141 [==============================] - 105s 748ms/step - loss: 0.3064 - accuracy: 0.9111 - val_loss: 0.5096 - val_accuracy: 0.8440\n",
      "Epoch 6/30\n",
      "141/141 [==============================] - 106s 750ms/step - loss: 0.2220 - accuracy: 0.9350 - val_loss: 0.5321 - val_accuracy: 0.8413\n",
      "Epoch 7/30\n",
      "141/141 [==============================] - 106s 750ms/step - loss: 0.1538 - accuracy: 0.9581 - val_loss: 0.5010 - val_accuracy: 0.8510\n",
      "Epoch 8/30\n",
      "141/141 [==============================] - 106s 750ms/step - loss: 0.1291 - accuracy: 0.9649 - val_loss: 0.5227 - val_accuracy: 0.8540\n",
      "Epoch 9/30\n",
      "141/141 [==============================] - 106s 749ms/step - loss: 0.1117 - accuracy: 0.9694 - val_loss: 0.5148 - val_accuracy: 0.8577\n",
      "Epoch 10/30\n",
      "141/141 [==============================] - 106s 749ms/step - loss: 0.1214 - accuracy: 0.9646 - val_loss: 0.6027 - val_accuracy: 0.8257\n",
      "Epoch 11/30\n",
      "141/141 [==============================] - 106s 748ms/step - loss: 0.0787 - accuracy: 0.9769 - val_loss: 0.5002 - val_accuracy: 0.8683\n",
      "Epoch 12/30\n",
      "141/141 [==============================] - 105s 748ms/step - loss: 0.0653 - accuracy: 0.9828 - val_loss: 0.5703 - val_accuracy: 0.8667\n",
      "Epoch 13/30\n",
      "141/141 [==============================] - 105s 746ms/step - loss: 0.0736 - accuracy: 0.9794 - val_loss: 0.5841 - val_accuracy: 0.8600\n",
      "Epoch 14/30\n",
      "141/141 [==============================] - 105s 746ms/step - loss: 0.1286 - accuracy: 0.9596 - val_loss: 0.5985 - val_accuracy: 0.8273\n",
      "Epoch 15/30\n",
      "141/141 [==============================] - 105s 746ms/step - loss: 0.0476 - accuracy: 0.9880 - val_loss: 0.6024 - val_accuracy: 0.8567\n",
      "Epoch 16/30\n",
      "141/141 [==============================] - 111s 786ms/step - loss: 0.2039 - accuracy: 0.9462 - val_loss: 0.5573 - val_accuracy: 0.8467\n"
     ]
    }
   ],
   "source": [
    "from tensorflow.keras.models import Sequential\n",
    "from tensorflow.keras.layers import Activation, Dense, Flatten, Conv1D, MaxPooling1D, Embedding,SpatialDropout1D, LSTM\n",
    "from tensorflow.keras.optimizers import SGD\n",
    "from tensorflow.keras.callbacks import EarlyStopping\n",
    "\n",
    "\n",
    "model = Sequential()\n",
    "model.add(Embedding(MAX_NB_WORDS, EMBEDDING_DIM, input_length=X.shape[1]))\n",
    "model.add(SpatialDropout1D(0.2))\n",
    "model.add(LSTM(128, dropout=0.2, recurrent_dropout=0.2))\n",
    "model.add(Dense(5, activation='softmax'))\n",
    "model.compile(loss='categorical_crossentropy', optimizer='adam', metrics=['accuracy'])\n",
    "\n",
    "epochs = 30\n",
    "batch_size = 64\n",
    "\n",
    "history = model.fit(X, y_train, epochs=epochs, batch_size=batch_size,validation_split=0.25,callbacks=[EarlyStopping(monitor='val_loss', patience=5,restore_best_weights=True)])\n"
   ]
  },
  {
   "cell_type": "code",
   "execution_count": null,
   "metadata": {
    "colab": {
     "base_uri": "https://localhost:8080/"
    },
    "id": "piZmb9mSVHYb",
    "outputId": "5cfd868b-4c1a-4ff6-b050-103c021dd483"
   },
   "outputs": [
    {
     "name": "stdout",
     "output_type": "stream",
     "text": [
      "Model: \"sequential\"\n",
      "_________________________________________________________________\n",
      " Layer (type)                Output Shape              Param #   \n",
      "=================================================================\n",
      " embedding (Embedding)       (None, 250, 30)           435000    \n",
      "                                                                 \n",
      " spatial_dropout1d (SpatialD  (None, 250, 30)          0         \n",
      " ropout1D)                                                       \n",
      "                                                                 \n",
      " lstm (LSTM)                 (None, 128)               81408     \n",
      "                                                                 \n",
      " dense (Dense)               (None, 5)                 645       \n",
      "                                                                 \n",
      "=================================================================\n",
      "Total params: 517,053\n",
      "Trainable params: 517,053\n",
      "Non-trainable params: 0\n",
      "_________________________________________________________________\n"
     ]
    }
   ],
   "source": [
    "model.summary()"
   ]
  },
  {
   "cell_type": "code",
   "execution_count": 35,
   "metadata": {
    "id": "YeKhP74ElQVH"
   },
   "outputs": [],
   "source": [
    "# Plot the loss in both the train and validation data\n",
    "def plot_model_history(his):\n",
    "  plt.title('Loss')\n",
    "  plt.plot(his.history['loss'], label='train')\n",
    "  plt.plot(his.history['val_loss'], label='test')\n",
    "  plt.legend()\n",
    "  plt.show();"
   ]
  },
  {
   "cell_type": "code",
   "execution_count": null,
   "metadata": {
    "colab": {
     "base_uri": "https://localhost:8080/",
     "height": 281
    },
    "id": "Tzqh3IWhsmF6",
    "outputId": "5097a788-26fe-47b5-ee15-5f488907ac66"
   },
   "outputs": [
    {
     "data": {
      "image/png": "[encoded data removed]",
      "text/plain": [
       "<Figure size 432x288 with 1 Axes>"
      ]
     },
     "metadata": {
      "needs_background": "light"
     },
     "output_type": "display_data"
    }
   ],
   "source": [
    "plot_model_history(history)"
   ]
  },
  {
   "cell_type": "markdown",
   "metadata": {
    "id": "KY2BoA12PCon"
   },
   "source": [
    "## LSTM Result Analysis  <a class=\"anchor\" id=\"result\"></a>"
   ]
  },
  {
   "cell_type": "code",
   "execution_count": null,
   "metadata": {
    "colab": {
     "base_uri": "https://localhost:8080/"
    },
    "id": "FlYwvyR2LIyR",
    "outputId": "87c7396b-a6ab-462a-e739-74f540ebdbfe"
   },
   "outputs": [
    {
     "name": "stdout",
     "output_type": "stream",
     "text": [
      "94/94 [==============================] - 9s 96ms/step - loss: 0.5177 - accuracy: 0.8617\n",
      "[0.5177016258239746, 0.8616666793823242]\n"
     ]
    }
   ],
   "source": [
    "# Evaluate on testing set\n",
    "X_test = tokenizer.texts_to_sequences(x_test['abstract'])\n",
    "X_test = pad_sequences(X_test, maxlen=MAX_SEQUENCE_LENGTH)\n",
    "\n",
    "\n",
    "print(model.evaluate(X_test, y_test))"
   ]
  },
  {
   "cell_type": "code",
   "execution_count": 43,
   "metadata": {
    "id": "k5Mk6jm8LAHE"
   },
   "outputs": [],
   "source": [
    "from sklearn.metrics import confusion_matrix\n",
    "\n",
    "preds = model.predict(X_test)"
   ]
  },
  {
   "cell_type": "code",
   "execution_count": 40,
   "metadata": {
    "id": "C5YMxf-2bQDt"
   },
   "outputs": [],
   "source": [
    "def convert_to_prediction(arr):\n",
    "  index_prediciton = max(enumerate(arr), key=(lambda x: x[1]))[0]\n",
    "  arr[arr > -1]=0\n",
    "  arr[index_prediciton] = 1\n",
    "  return arr\n",
    "\n",
    "\n",
    "for (i, arr) in enumerate(preds):\n",
    "  preds[i] = convert_to_prediction(arr)\n",
    "\n"
   ]
  },
  {
   "cell_type": "code",
   "execution_count": null,
   "metadata": {
    "colab": {
     "base_uri": "https://localhost:8080/",
     "height": 513
    },
    "id": "kX5Cn-hSJl3h",
    "outputId": "e927321a-d900-4400-c20a-38ef84817564"
   },
   "outputs": [
    {
     "data": {
      "image/png": "[encoded data removed]",
      "text/plain": [
       "<Figure size 720x576 with 2 Axes>"
      ]
     },
     "metadata": {
      "needs_background": "light"
     },
     "output_type": "display_data"
    }
   ],
   "source": [
    "import sklearn\n",
    "cm =confusion_matrix(np.dot(y_test, np.array([1,2,3,4,5])), np.dot(preds, np.array([1,2,3,4,5])))\n",
    "plt.figure(figsize=(10,8))\n",
    "# plt.figure()\n",
    "sns.heatmap(cm, annot=True,xticklabels=cats2,yticklabels=cats2)\n",
    "plt.title('Confusion Matrix')\n",
    "plt.ylabel('Actual Values')\n",
    "plt.xlabel('Predicted Values')\n",
    "plt.show()"
   ]
  },
  {
   "cell_type": "code",
   "execution_count": null,
   "metadata": {
    "colab": {
     "base_uri": "https://localhost:8080/"
    },
    "id": "fZIj-fAimJtH",
    "outputId": "58e75473-f8f5-4529-e284-3736a98ae710"
   },
   "outputs": [
    {
     "name": "stdout",
     "output_type": "stream",
     "text": [
      "                  precision    recall  f1-score   support\n",
      "\n",
      "Computer Science       0.82      0.78      0.80       600\n",
      "            Math       0.86      0.90      0.88       600\n",
      "         Physics       0.95      0.94      0.95       600\n",
      "      Quant. Bio       0.84      0.87      0.85       600\n",
      "      Statistics       0.84      0.82      0.83       600\n",
      "\n",
      "       micro avg       0.86      0.86      0.86      3000\n",
      "       macro avg       0.86      0.86      0.86      3000\n",
      "    weighted avg       0.86      0.86      0.86      3000\n",
      "     samples avg       0.86      0.86      0.86      3000\n",
      "\n"
     ]
    }
   ],
   "source": [
    "from sklearn.metrics import classification_report\n",
    "print(classification_report(y_test, preds, target_names=cats2))"
   ]
  },
  {
   "cell_type": "markdown",
   "metadata": {
    "id": "kxPmELqlF-BB"
   },
   "source": [
    "**Analysis**: \n",
    "\n",
    "Overall, LSTM Model has given us around 86% accuracy for the testing subset. From the confusion Matrix and the classification report above, we can see Physics paper is more sensitive and more precise than the other subjects. Math and Quant. Bio also have decent performance with an f1-score over 0.85. On the other hand, Computer Science and Statistics are always mixed up in our model. We assume it's because of the strong connections between these two subjects, and we will check misclassified texts to verify our assumption in the following section."
   ]
  },
  {
   "cell_type": "markdown",
   "metadata": {
    "id": "cam1SeQoCBT1"
   },
   "source": [
    "### LSTM Misclassification Analysis "
   ]
  },
  {
   "cell_type": "code",
   "execution_count": null,
   "metadata": {
    "id": "L4N-OisK9tPh"
   },
   "outputs": [],
   "source": [
    "# Create a new dataframe to analyze the misclassifications\n",
    "preds = preds.astype('int32')\n",
    "df_result = pd.DataFrame({\n",
    "    'text': x_test['abstract'],\n",
    "    'actual': list(np.dot(y_test, np.array([1,2,3,4,5]))),\n",
    "    'predicted': list(np.dot(preds, np.array([1,2,3,4,5])))\n",
    "})\n"
   ]
  },
  {
   "cell_type": "code",
   "execution_count": null,
   "metadata": {
    "colab": {
     "base_uri": "https://localhost:8080/",
     "height": 2242
    },
    "id": "hKtpu1TE__QX",
    "outputId": "42978785-2002-499c-8d39-37522a746b7b"
   },
   "outputs": [
    {
     "data": {
      "text/html": [
       "\n",
       "  <div id=\"df-c8693a38-3afd-43e7-9414-9bdf5554e889\">\n",
       "    <div class=\"colab-df-container\">\n",
       "      <div>\n",
       "<style scoped>\n",
       "    .dataframe tbody tr th:only-of-type {\n",
       "        vertical-align: middle;\n",
       "    }\n",
       "\n",
       "    .dataframe tbody tr th {\n",
       "        vertical-align: top;\n",
       "    }\n",
       "\n",
       "    .dataframe thead th {\n",
       "        text-align: right;\n",
       "    }\n",
       "</style>\n",
       "<table border=\"1\" class=\"dataframe\">\n",
       "  <thead>\n",
       "    <tr style=\"text-align: right;\">\n",
       "      <th></th>\n",
       "      <th>text</th>\n",
       "      <th>actual</th>\n",
       "      <th>predicted</th>\n",
       "    </tr>\n",
       "  </thead>\n",
       "  <tbody>\n",
       "    <tr>\n",
       "      <th>3345</th>\n",
       "      <td>The concept of data depth in non-parametric ...</td>\n",
       "      <td>1</td>\n",
       "      <td>5</td>\n",
       "    </tr>\n",
       "    <tr>\n",
       "      <th>9016</th>\n",
       "      <td>The concept of the value-gradient is introdu...</td>\n",
       "      <td>1</td>\n",
       "      <td>5</td>\n",
       "    </tr>\n",
       "    <tr>\n",
       "      <th>5086</th>\n",
       "      <td>In the process of training Support Vector Ma...</td>\n",
       "      <td>1</td>\n",
       "      <td>5</td>\n",
       "    </tr>\n",
       "    <tr>\n",
       "      <th>8518</th>\n",
       "      <td>Self organizing maps (SOMs) are widely-used ...</td>\n",
       "      <td>1</td>\n",
       "      <td>5</td>\n",
       "    </tr>\n",
       "    <tr>\n",
       "      <th>2041</th>\n",
       "      <td>We present a qualitative study of 20 America...</td>\n",
       "      <td>1</td>\n",
       "      <td>5</td>\n",
       "    </tr>\n",
       "    <tr>\n",
       "      <th>8294</th>\n",
       "      <td>Data privacy is one of the key challenges fa...</td>\n",
       "      <td>1</td>\n",
       "      <td>5</td>\n",
       "    </tr>\n",
       "    <tr>\n",
       "      <th>6133</th>\n",
       "      <td>Evidence-based medicine is critically depend...</td>\n",
       "      <td>1</td>\n",
       "      <td>5</td>\n",
       "    </tr>\n",
       "    <tr>\n",
       "      <th>9249</th>\n",
       "      <td>This paper examines the possibility of disco...</td>\n",
       "      <td>1</td>\n",
       "      <td>5</td>\n",
       "    </tr>\n",
       "    <tr>\n",
       "      <th>8792</th>\n",
       "      <td>Ontario (Canada) Health System stakeholders ...</td>\n",
       "      <td>1</td>\n",
       "      <td>5</td>\n",
       "    </tr>\n",
       "    <tr>\n",
       "      <th>10298</th>\n",
       "      <td>Trust is often conveyed through delegation, ...</td>\n",
       "      <td>1</td>\n",
       "      <td>5</td>\n",
       "    </tr>\n",
       "    <tr>\n",
       "      <th>7720</th>\n",
       "      <td>Control code is a concept that is closely re...</td>\n",
       "      <td>1</td>\n",
       "      <td>5</td>\n",
       "    </tr>\n",
       "    <tr>\n",
       "      <th>10379</th>\n",
       "      <td>We propose an e-voting protocol that seems t...</td>\n",
       "      <td>1</td>\n",
       "      <td>5</td>\n",
       "    </tr>\n",
       "    <tr>\n",
       "      <th>10217</th>\n",
       "      <td>The increasing relevance of areas such as re...</td>\n",
       "      <td>1</td>\n",
       "      <td>5</td>\n",
       "    </tr>\n",
       "    <tr>\n",
       "      <th>9664</th>\n",
       "      <td>The use of multiple Decision Models (DMs) en...</td>\n",
       "      <td>1</td>\n",
       "      <td>5</td>\n",
       "    </tr>\n",
       "    <tr>\n",
       "      <th>7059</th>\n",
       "      <td>A neural net model for forecasting the price...</td>\n",
       "      <td>1</td>\n",
       "      <td>5</td>\n",
       "    </tr>\n",
       "    <tr>\n",
       "      <th>9041</th>\n",
       "      <td>Nurse rostering is a complex scheduling prob...</td>\n",
       "      <td>1</td>\n",
       "      <td>5</td>\n",
       "    </tr>\n",
       "    <tr>\n",
       "      <th>9430</th>\n",
       "      <td>A novel way of filling high aspect ratio ver...</td>\n",
       "      <td>1</td>\n",
       "      <td>5</td>\n",
       "    </tr>\n",
       "    <tr>\n",
       "      <th>9043</th>\n",
       "      <td>When designing systems that are complex, dyn...</td>\n",
       "      <td>1</td>\n",
       "      <td>5</td>\n",
       "    </tr>\n",
       "    <tr>\n",
       "      <th>2815</th>\n",
       "      <td>An ensemble based approach for dealing with ...</td>\n",
       "      <td>1</td>\n",
       "      <td>5</td>\n",
       "    </tr>\n",
       "    <tr>\n",
       "      <th>8536</th>\n",
       "      <td>We propose a novel model for nonlinear dimen...</td>\n",
       "      <td>1</td>\n",
       "      <td>5</td>\n",
       "    </tr>\n",
       "    <tr>\n",
       "      <th>10439</th>\n",
       "      <td>This paper studies real-world road networks ...</td>\n",
       "      <td>1</td>\n",
       "      <td>5</td>\n",
       "    </tr>\n",
       "    <tr>\n",
       "      <th>9164</th>\n",
       "      <td>In 2005, Yang, Wang, and Chang proposed an i...</td>\n",
       "      <td>1</td>\n",
       "      <td>5</td>\n",
       "    </tr>\n",
       "    <tr>\n",
       "      <th>9581</th>\n",
       "      <td>By considering the features of the airport r...</td>\n",
       "      <td>1</td>\n",
       "      <td>5</td>\n",
       "    </tr>\n",
       "    <tr>\n",
       "      <th>8317</th>\n",
       "      <td>PGA (ProGram Algebra) is an algebra of progr...</td>\n",
       "      <td>1</td>\n",
       "      <td>5</td>\n",
       "    </tr>\n",
       "    <tr>\n",
       "      <th>7425</th>\n",
       "      <td>This paper addresses a method to analyze the...</td>\n",
       "      <td>1</td>\n",
       "      <td>5</td>\n",
       "    </tr>\n",
       "    <tr>\n",
       "      <th>4249</th>\n",
       "      <td>Engineering software systems is a multidisci...</td>\n",
       "      <td>1</td>\n",
       "      <td>5</td>\n",
       "    </tr>\n",
       "    <tr>\n",
       "      <th>1116</th>\n",
       "      <td>Motivation: Profile hidden Markov Models (pH...</td>\n",
       "      <td>1</td>\n",
       "      <td>5</td>\n",
       "    </tr>\n",
       "    <tr>\n",
       "      <th>6116</th>\n",
       "      <td>We consider the problem of estimating the pa...</td>\n",
       "      <td>1</td>\n",
       "      <td>5</td>\n",
       "    </tr>\n",
       "    <tr>\n",
       "      <th>8588</th>\n",
       "      <td>Support vector machines represent a promisin...</td>\n",
       "      <td>1</td>\n",
       "      <td>5</td>\n",
       "    </tr>\n",
       "    <tr>\n",
       "      <th>8901</th>\n",
       "      <td>In this paper, we implement an anomaly detec...</td>\n",
       "      <td>1</td>\n",
       "      <td>5</td>\n",
       "    </tr>\n",
       "    <tr>\n",
       "      <th>8845</th>\n",
       "      <td>From a high volume stream of weighted items,...</td>\n",
       "      <td>1</td>\n",
       "      <td>5</td>\n",
       "    </tr>\n",
       "    <tr>\n",
       "      <th>9247</th>\n",
       "      <td>The stated aim of this conference is to deba...</td>\n",
       "      <td>1</td>\n",
       "      <td>5</td>\n",
       "    </tr>\n",
       "    <tr>\n",
       "      <th>9774</th>\n",
       "      <td>This paper presents a novel technique for co...</td>\n",
       "      <td>1</td>\n",
       "      <td>5</td>\n",
       "    </tr>\n",
       "    <tr>\n",
       "      <th>5455</th>\n",
       "      <td>An inherently parallel algorithm is proposed...</td>\n",
       "      <td>1</td>\n",
       "      <td>5</td>\n",
       "    </tr>\n",
       "    <tr>\n",
       "      <th>8751</th>\n",
       "      <td>This technical report details a family of ti...</td>\n",
       "      <td>1</td>\n",
       "      <td>5</td>\n",
       "    </tr>\n",
       "    <tr>\n",
       "      <th>447</th>\n",
       "      <td>Honeypots are more and more used to collect ...</td>\n",
       "      <td>1</td>\n",
       "      <td>5</td>\n",
       "    </tr>\n",
       "    <tr>\n",
       "      <th>9264</th>\n",
       "      <td>We present a conceptual model that describes...</td>\n",
       "      <td>1</td>\n",
       "      <td>5</td>\n",
       "    </tr>\n",
       "    <tr>\n",
       "      <th>9156</th>\n",
       "      <td>Continuing in the steps of Jon Kleinberg's a...</td>\n",
       "      <td>1</td>\n",
       "      <td>5</td>\n",
       "    </tr>\n",
       "    <tr>\n",
       "      <th>7878</th>\n",
       "      <td>This paper is concerned with generators that...</td>\n",
       "      <td>1</td>\n",
       "      <td>5</td>\n",
       "    </tr>\n",
       "    <tr>\n",
       "      <th>9925</th>\n",
       "      <td>Meaning cannot be based on dictionary defini...</td>\n",
       "      <td>1</td>\n",
       "      <td>5</td>\n",
       "    </tr>\n",
       "    <tr>\n",
       "      <th>2887</th>\n",
       "      <td>There have been a number of prior attempts t...</td>\n",
       "      <td>1</td>\n",
       "      <td>5</td>\n",
       "    </tr>\n",
       "    <tr>\n",
       "      <th>8349</th>\n",
       "      <td>In the spreadsheet error community, both aca...</td>\n",
       "      <td>1</td>\n",
       "      <td>5</td>\n",
       "    </tr>\n",
       "    <tr>\n",
       "      <th>7187</th>\n",
       "      <td>Data collection often results in records tha...</td>\n",
       "      <td>1</td>\n",
       "      <td>5</td>\n",
       "    </tr>\n",
       "    <tr>\n",
       "      <th>7130</th>\n",
       "      <td>We demonstrate conclusively that there is no...</td>\n",
       "      <td>1</td>\n",
       "      <td>5</td>\n",
       "    </tr>\n",
       "    <tr>\n",
       "      <th>7204</th>\n",
       "      <td>High resolution satellite image sequences ar...</td>\n",
       "      <td>1</td>\n",
       "      <td>5</td>\n",
       "    </tr>\n",
       "    <tr>\n",
       "      <th>4807</th>\n",
       "      <td>In this paper we present an algorithm for pe...</td>\n",
       "      <td>1</td>\n",
       "      <td>5</td>\n",
       "    </tr>\n",
       "    <tr>\n",
       "      <th>8185</th>\n",
       "      <td>Any secured system can be modeled as a capab...</td>\n",
       "      <td>1</td>\n",
       "      <td>5</td>\n",
       "    </tr>\n",
       "    <tr>\n",
       "      <th>8545</th>\n",
       "      <td>This paper explores the potential of extreme...</td>\n",
       "      <td>1</td>\n",
       "      <td>5</td>\n",
       "    </tr>\n",
       "  </tbody>\n",
       "</table>\n",
       "</div>\n",
       "      <button class=\"colab-df-convert\" onclick=\"convertToInteractive('df-c8693a38-3afd-43e7-9414-9bdf5554e889')\"\n",
       "              title=\"Convert this dataframe to an interactive table.\"\n",
       "              style=\"display:none;\">\n",
       "        \n",
       "  <svg xmlns=\"http://www.w3.org/2000/svg\" height=\"24px\"viewBox=\"0 0 24 24\"\n",
       "       width=\"24px\">\n",
       "    <path d=\"M0 0h24v24H0V0z\" fill=\"none\"/>\n",
       "    <path d=\"M18.56 5.44l.94 2.06.94-2.06 2.06-.94-2.06-.94-.94-2.06-.94 2.06-2.06.94zm-11 1L8.5 8.5l.94-2.06 2.06-.94-2.06-.94L8.5 2.5l-.94 2.06-2.06.94zm10 10l.94 2.06.94-2.06 2.06-.94-2.06-.94-.94-2.06-.94 2.06-2.06.94z\"/><path d=\"M17.41 7.96l-1.37-1.37c-.4-.4-.92-.59-1.43-.59-.52 0-1.04.2-1.43.59L10.3 9.45l-7.72 7.72c-.78.78-.78 2.05 0 2.83L4 21.41c.39.39.9.59 1.41.59.51 0 1.02-.2 1.41-.59l7.78-7.78 2.81-2.81c.8-.78.8-2.07 0-2.86zM5.41 20L4 18.59l7.72-7.72 1.47 1.35L5.41 20z\"/>\n",
       "  </svg>\n",
       "      </button>\n",
       "      \n",
       "  <style>\n",
       "    .colab-df-container {\n",
       "      display:flex;\n",
       "      flex-wrap:wrap;\n",
       "      gap: 12px;\n",
       "    }\n",
       "\n",
       "    .colab-df-convert {\n",
       "      background-color: #E8F0FE;\n",
       "      border: none;\n",
       "      border-radius: 50%;\n",
       "      cursor: pointer;\n",
       "      display: none;\n",
       "      fill: #1967D2;\n",
       "      height: 32px;\n",
       "      padding: 0 0 0 0;\n",
       "      width: 32px;\n",
       "    }\n",
       "\n",
       "    .colab-df-convert:hover {\n",
       "      background-color: #E2EBFA;\n",
       "      box-shadow: 0px 1px 2px rgba(60, 64, 67, 0.3), 0px 1px 3px 1px rgba(60, 64, 67, 0.15);\n",
       "      fill: #174EA6;\n",
       "    }\n",
       "\n",
       "    [theme=dark] .colab-df-convert {\n",
       "      background-color: #3B4455;\n",
       "      fill: #D2E3FC;\n",
       "    }\n",
       "\n",
       "    [theme=dark] .colab-df-convert:hover {\n",
       "      background-color: #434B5C;\n",
       "      box-shadow: 0px 1px 3px 1px rgba(0, 0, 0, 0.15);\n",
       "      filter: drop-shadow(0px 1px 2px rgba(0, 0, 0, 0.3));\n",
       "      fill: #FFFFFF;\n",
       "    }\n",
       "  </style>\n",
       "\n",
       "      <script>\n",
       "        const buttonEl =\n",
       "          document.querySelector('#df-c8693a38-3afd-43e7-9414-9bdf5554e889 button.colab-df-convert');\n",
       "        buttonEl.style.display =\n",
       "          google.colab.kernel.accessAllowed ? 'block' : 'none';\n",
       "\n",
       "        async function convertToInteractive(key) {\n",
       "          const element = document.querySelector('#df-c8693a38-3afd-43e7-9414-9bdf5554e889');\n",
       "          const dataTable =\n",
       "            await google.colab.kernel.invokeFunction('convertToInteractive',\n",
       "                                                     [key], {});\n",
       "          if (!dataTable) return;\n",
       "\n",
       "          const docLinkHtml = 'Like what you see? Visit the ' +\n",
       "            '<a target=\"_blank\" href=https://colab.research.google.com/notebooks/data_table.ipynb>data table notebook</a>'\n",
       "            + ' to learn more about interactive tables.';\n",
       "          element.innerHTML = '';\n",
       "          dataTable['output_type'] = 'display_data';\n",
       "          await google.colab.output.renderOutput(dataTable, element);\n",
       "          const docLink = document.createElement('div');\n",
       "          docLink.innerHTML = docLinkHtml;\n",
       "          element.appendChild(docLink);\n",
       "        }\n",
       "      </script>\n",
       "    </div>\n",
       "  </div>\n",
       "  "
      ],
      "text/plain": [
       "                                                    text  actual  predicted\n",
       "3345     The concept of data depth in non-parametric ...       1          5\n",
       "9016     The concept of the value-gradient is introdu...       1          5\n",
       "5086     In the process of training Support Vector Ma...       1          5\n",
       "8518     Self organizing maps (SOMs) are widely-used ...       1          5\n",
       "2041     We present a qualitative study of 20 America...       1          5\n",
       "8294     Data privacy is one of the key challenges fa...       1          5\n",
       "6133     Evidence-based medicine is critically depend...       1          5\n",
       "9249     This paper examines the possibility of disco...       1          5\n",
       "8792     Ontario (Canada) Health System stakeholders ...       1          5\n",
       "10298    Trust is often conveyed through delegation, ...       1          5\n",
       "7720     Control code is a concept that is closely re...       1          5\n",
       "10379    We propose an e-voting protocol that seems t...       1          5\n",
       "10217    The increasing relevance of areas such as re...       1          5\n",
       "9664     The use of multiple Decision Models (DMs) en...       1          5\n",
       "7059     A neural net model for forecasting the price...       1          5\n",
       "9041     Nurse rostering is a complex scheduling prob...       1          5\n",
       "9430     A novel way of filling high aspect ratio ver...       1          5\n",
       "9043     When designing systems that are complex, dyn...       1          5\n",
       "2815     An ensemble based approach for dealing with ...       1          5\n",
       "8536     We propose a novel model for nonlinear dimen...       1          5\n",
       "10439    This paper studies real-world road networks ...       1          5\n",
       "9164     In 2005, Yang, Wang, and Chang proposed an i...       1          5\n",
       "9581     By considering the features of the airport r...       1          5\n",
       "8317     PGA (ProGram Algebra) is an algebra of progr...       1          5\n",
       "7425     This paper addresses a method to analyze the...       1          5\n",
       "4249     Engineering software systems is a multidisci...       1          5\n",
       "1116     Motivation: Profile hidden Markov Models (pH...       1          5\n",
       "6116     We consider the problem of estimating the pa...       1          5\n",
       "8588     Support vector machines represent a promisin...       1          5\n",
       "8901     In this paper, we implement an anomaly detec...       1          5\n",
       "8845     From a high volume stream of weighted items,...       1          5\n",
       "9247     The stated aim of this conference is to deba...       1          5\n",
       "9774     This paper presents a novel technique for co...       1          5\n",
       "5455     An inherently parallel algorithm is proposed...       1          5\n",
       "8751     This technical report details a family of ti...       1          5\n",
       "447      Honeypots are more and more used to collect ...       1          5\n",
       "9264     We present a conceptual model that describes...       1          5\n",
       "9156     Continuing in the steps of Jon Kleinberg's a...       1          5\n",
       "7878     This paper is concerned with generators that...       1          5\n",
       "9925     Meaning cannot be based on dictionary defini...       1          5\n",
       "2887     There have been a number of prior attempts t...       1          5\n",
       "8349     In the spreadsheet error community, both aca...       1          5\n",
       "7187     Data collection often results in records tha...       1          5\n",
       "7130     We demonstrate conclusively that there is no...       1          5\n",
       "7204     High resolution satellite image sequences ar...       1          5\n",
       "4807     In this paper we present an algorithm for pe...       1          5\n",
       "8185     Any secured system can be modeled as a capab...       1          5\n",
       "8545     This paper explores the potential of extreme...       1          5"
      ]
     },
     "execution_count": 57,
     "metadata": {},
     "output_type": "execute_result"
    }
   ],
   "source": [
    "# Computer Science Paper that are classified as Statistics\n",
    "df_result[(df_result['actual']==1) & (df_result['predicted']==5)]"
   ]
  },
  {
   "cell_type": "markdown",
   "metadata": {
    "id": "hGHssxOtCUfI"
   },
   "source": [
    "**Conclusion**:\n",
    "\n",
    "After analyzing the texts that are misclassified as Computer Science (False Positive) or cannot be correctly classified as Computer Science (False Negative), we conclude that Computer Science has so many overlaps with other fields such as Statistics and Mathematics, so it is a challenging task to give the correct label only based on the abstract. To increase the accuracy, we have changed the default filter of the tokenizer to let it include mathematical operations (such as multiplication and exponent), and the validation accuracy has increased 3% from around 83% to around 86%. We will try the pretrained DistilBERT Model with its pretrained tokenizer in the following section to test the performance of a more advanced transformer model."
   ]
  },
  {
   "cell_type": "markdown",
   "metadata": {
    "id": "WOtyp_hVUoXR"
   },
   "source": [
    "# Tuning a Pre-trained model (DistilBERT) <a class=\"anchor\" id=\"BERT\"></a>\n",
    "\n"
   ]
  },
  {
   "cell_type": "markdown",
   "metadata": {
    "id": "AshCa2NY_8-h"
   },
   "source": [
    "We chose DistilBERT as our pretrained model since our original model uses LSTMs, and we wanted to compare the performance of LSTMs to transformers. DistilBERT is also a smaller and faster version of the well known BERT model, so this would allow us to train it more quickly, since it still retains 95% of the accuracy of the original BERT model."
   ]
  },
  {
   "cell_type": "markdown",
   "metadata": {},
   "source": [
    "## DistilBERT Training and Building  <a class=\"anchor\" id=\"berttraining\"></a>"
   ]
  },
  {
   "cell_type": "code",
   "execution_count": 5,
   "metadata": {
    "id": "BtsR8pcZohIG"
   },
   "outputs": [],
   "source": [
    "from transformers import AutoTokenizer, TFAutoModelForSequenceClassification\n",
    "from tokenizers import BertWordPieceTokenizer\n",
    "from transformers import BertTokenizer, BertForPreTraining"
   ]
  },
  {
   "cell_type": "code",
   "execution_count": 15,
   "metadata": {
    "id": "aE1NktS4pT-n"
   },
   "outputs": [],
   "source": [
    "# Convert input into tokenized version for model\n",
    "def convert_to_tokenization(data):\n",
    "  inputs = list()\n",
    "  for index, line in data.iteritems():\n",
    "    text=str(line)\n",
    "    inputs.append(text)\n",
    "  return inputs\n",
    "\n",
    "# Turn input into single string for tokenization\n",
    "data = arxiv_x.iloc[:,0]\n",
    "inputs = convert_to_tokenization(data)\n"
   ]
  },
  {
   "cell_type": "code",
   "execution_count": 16,
   "metadata": {
    "id": "mP546fqD25eX"
   },
   "outputs": [],
   "source": [
    "# Convert labels into proper input\n",
    "def convert_to_labels(data):\n",
    "  labels = list()\n",
    "  for index, line in data.iterrows():\n",
    "    for i, item in enumerate(cats2):\n",
    "      if line[item] == 1:\n",
    "        labels.append(i)\n",
    "  return labels\n",
    "\n",
    "# Turn labels into sparse targets rather than one-hot encoding\n",
    "labels = convert_to_labels(arxiv_y)\n",
    "x_train2, x_test2, y_train2, y_test2 = train_test_split(inputs,labels,test_size = 0.2, stratify = labels)"
   ]
  },
  {
   "cell_type": "code",
   "execution_count": 17,
   "metadata": {
    "colab": {
     "base_uri": "https://localhost:8080/",
     "height": 145,
     "referenced_widgets": [
      "cffeacd35efb4313a2b16cbc3cc70e11",
      "385a8374f3d04a29b70f406060a3fc1c",
      "44362691729c479988889888f0f68136",
      "5fc387b61c5c4a0a9676aa5ea991b617",
      "840702903fa04cc289a940e3f543506b",
      "63edd68125d94ea3a0f1ca518cddfc66",
      "1b78a34805614588a33354e652625624",
      "c4b6a27eb5f944e683ba5b852f6f7441",
      "f42dc9551fa442b7900388d376c312bc",
      "814b14e0169d4618b323f641ac8667b0",
      "167585c5b4c94a78a2ca9f3d479e8592",
      "78b81e586cab48a48962139691f59690",
      "c62ada27ae1d4a58a1f4a3eafdb64377",
      "c5c0727067a5454294ec60e2e4ecf304",
      "898f4c22eed84bd4ae5efc4a86ef411a",
      "064e3dd6a16a49cabd5221f47e081ef9",
      "952c5099877045b398fdc2d2aee10795",
      "c2c7a23dbbef4533835cb58807a82abd",
      "441b5e62f22e43a3acab6ccd2d3b4ae8",
      "e1fc09c43f304fc29b464a8ce68f0173",
      "9c59e5539cd04672b6a05d17d3365168",
      "d25f3dc4b08843a2b24f74e2d6a9f200",
      "c8e47764c9574b5e851901c34b2a2581",
      "0530894a0a324225bb27f9c0cb3b7b2d",
      "3c06206f7f1b4030a2d43d323bc4d715",
      "c7c9708d67754a03a8703f21baf9d066",
      "811e1474409a43de965563163bfd0ff3",
      "9e4e815611084c16bf31d52a939ed188",
      "ddb220350d5e42009dcef120ab208c95",
      "e09f922e761446ae9f24b3907fdfb811",
      "7e6686878c1742179d4265da3017c162",
      "43492bcc268f4bf59f01668f9bf2b972",
      "a98a878982a8497592515d338796e29b",
      "7a89525618604085b3604cb35770a43e",
      "84ab4686c20a41ae96399d581acb2476",
      "a2f1c62e26cc4f28a0fc0118c809aee9",
      "ddc35c52a3704ba4a5c56cdfd617c08d",
      "3b2f019f547d4ceea5a0a8e75e068e39",
      "af717daf872240dc919035015999d863",
      "941e0dc55cfd4779855bfed50135b24e",
      "64f58258271d442d84cfacad94d348d8",
      "9c20090a8baa46459427d2cbeed66376",
      "13dad6e7c93e45a9a09570e2d5c01629",
      "89a0842e4e584b54b63f2289c495c8cf"
     ]
    },
    "id": "pZjbyWn-P3oC",
    "outputId": "a73a8dd4-3e11-494c-ac54-cc8c305b348f"
   },
   "outputs": [
    {
     "name": "stderr",
     "output_type": "stream",
     "text": [
      "Downloading: 100%|██████████| 28.0/28.0 [00:00<00:00, 32.3kB/s]\n",
      "Downloading: 100%|██████████| 483/483 [00:00<00:00, 390kB/s]\n",
      "Downloading: 100%|██████████| 226k/226k [00:00<00:00, 519kB/s]  \n",
      "Downloading: 100%|██████████| 455k/455k [00:00<00:00, 848kB/s] \n"
     ]
    },
    {
     "name": "stdout",
     "output_type": "stream",
     "text": [
      "Metal device set to: Apple M1 Pro\n",
      "\n",
      "systemMemory: 16.00 GB\n",
      "maxCacheSize: 5.33 GB\n",
      "\n"
     ]
    },
    {
     "name": "stderr",
     "output_type": "stream",
     "text": [
      "2022-05-13 14:49:21.713806: I tensorflow/core/common_runtime/pluggable_device/pluggable_device_factory.cc:305] Could not identify NUMA node of platform GPU ID 0, defaulting to 0. Your kernel may not have been built with NUMA support.\n",
      "2022-05-13 14:49:21.716639: I tensorflow/core/common_runtime/pluggable_device/pluggable_device_factory.cc:271] Created TensorFlow device (/job:localhost/replica:0/task:0/device:GPU:0 with 0 MB memory) -> physical PluggableDevice (device: 0, name: METAL, pci bus id: <undefined>)\n"
     ]
    }
   ],
   "source": [
    "# Tokenize the input using the DistilBERT tokenizer\n",
    "tokenizer = AutoTokenizer.from_pretrained(\"distilbert-base-uncased\") #Tokenizer\n",
    "tokenized = tokenizer(x_train2, padding=True, truncation=True, return_tensors='tf') #Tokenized text"
   ]
  },
  {
   "cell_type": "code",
   "execution_count": 29,
   "metadata": {
    "id": "Wp66OBN72mPa"
   },
   "outputs": [],
   "source": [
    "# Create a tensorflow dataset for the model\n",
    "dataset=tf.data.Dataset.from_tensor_slices((dict(tokenized), y_train2))\n",
    "dataset = dataset.shuffle(len(dataset))\n",
    "val_data_size=int(0.25*len(dataset))\n",
    "# Split into validation and training data (Batch size of less than 4 is required otherwise COLAB runs out of RAM)\n",
    "val_ds=dataset.take(val_data_size).batch(8)\n",
    "train_ds=dataset.skip(val_data_size).batch(8)"
   ]
  },
  {
   "cell_type": "code",
   "execution_count": 33,
   "metadata": {
    "colab": {
     "base_uri": "https://localhost:8080/",
     "height": 530,
     "referenced_widgets": [
      "c49c37e203a04701a462623b23e4939c",
      "68684c8fd4c140fd86d527a36bb0ba6f",
      "b8d136faf4d040cea86540e6f1a2ac60",
      "068ccf5a4c2d49c09e8f66deff5ede3a",
      "49ceb09349c4498c8205393e3f3691e7",
      "4c323bd0e143441e981e5a61cde18de2",
      "262623adf7fa4c69a420356c1cf2b00f",
      "1c9366b712164fc181654e165999f178",
      "f327403983de4e34bc3b71d8e849ff97",
      "3ad6a2eef778480d8940858a280c61ac",
      "758b273491d4415d8be937a7d6cb73eb"
     ]
    },
    "id": "xkrnKbCc24-c",
    "outputId": "0d3dffa0-fa4c-46c3-b026-e34d675e06c0"
   },
   "outputs": [
    {
     "name": "stderr",
     "output_type": "stream",
     "text": [
      "Some layers from the model checkpoint at distilbert-base-uncased were not used when initializing TFDistilBertForSequenceClassification: ['activation_13', 'vocab_layer_norm', 'vocab_transform', 'vocab_projector']\n",
      "- This IS expected if you are initializing TFDistilBertForSequenceClassification from the checkpoint of a model trained on another task or with another architecture (e.g. initializing a BertForSequenceClassification model from a BertForPreTraining model).\n",
      "- This IS NOT expected if you are initializing TFDistilBertForSequenceClassification from the checkpoint of a model that you expect to be exactly identical (initializing a BertForSequenceClassification model from a BertForSequenceClassification model).\n",
      "Some layers of TFDistilBertForSequenceClassification were not initialized from the model checkpoint at distilbert-base-uncased and are newly initialized: ['pre_classifier', 'dropout_159', 'classifier']\n",
      "You should probably TRAIN this model on a down-stream task to be able to use it for predictions and inference.\n"
     ]
    },
    {
     "name": "stdout",
     "output_type": "stream",
     "text": [
      "Epoch 1/30\n"
     ]
    },
    {
     "name": "stderr",
     "output_type": "stream",
     "text": [
      "2022-05-13 17:20:30.495516: I tensorflow/core/grappler/optimizers/custom_graph_optimizer_registry.cc:112] Plugin optimizer for device_type GPU is enabled.\n"
     ]
    },
    {
     "name": "stdout",
     "output_type": "stream",
     "text": [
      "1125/1125 [==============================] - ETA: 0s - loss: 0.4575 - sparse_categorical_accuracy: 0.8693"
     ]
    },
    {
     "name": "stderr",
     "output_type": "stream",
     "text": [
      "2022-05-13 17:33:44.544494: I tensorflow/core/grappler/optimizers/custom_graph_optimizer_registry.cc:112] Plugin optimizer for device_type GPU is enabled.\n"
     ]
    },
    {
     "name": "stdout",
     "output_type": "stream",
     "text": [
      "1125/1125 [==============================] - 883s 770ms/step - loss: 0.4575 - sparse_categorical_accuracy: 0.8693 - val_loss: 0.2404 - val_sparse_categorical_accuracy: 0.9257\n",
      "Epoch 2/30\n",
      "1125/1125 [==============================] - 861s 765ms/step - loss: 0.2343 - sparse_categorical_accuracy: 0.9273 - val_loss: 0.1571 - val_sparse_categorical_accuracy: 0.9530\n",
      "Epoch 3/30\n",
      "1125/1125 [==============================] - 862s 766ms/step - loss: 0.1658 - sparse_categorical_accuracy: 0.9500 - val_loss: 0.1070 - val_sparse_categorical_accuracy: 0.9703\n",
      "Epoch 4/30\n",
      "1125/1125 [==============================] - 863s 766ms/step - loss: 0.1174 - sparse_categorical_accuracy: 0.9638 - val_loss: 0.0584 - val_sparse_categorical_accuracy: 0.9820\n",
      "Epoch 5/30\n",
      "1125/1125 [==============================] - 862s 766ms/step - loss: 0.0785 - sparse_categorical_accuracy: 0.9772 - val_loss: 0.0417 - val_sparse_categorical_accuracy: 0.9883\n",
      "Epoch 6/30\n",
      "1125/1125 [==============================] - 862s 766ms/step - loss: 0.0573 - sparse_categorical_accuracy: 0.9858 - val_loss: 0.0230 - val_sparse_categorical_accuracy: 0.9947\n",
      "Epoch 7/30\n",
      "1125/1125 [==============================] - 863s 767ms/step - loss: 0.0357 - sparse_categorical_accuracy: 0.9909 - val_loss: 0.0188 - val_sparse_categorical_accuracy: 0.9947\n",
      "Epoch 8/30\n",
      "1125/1125 [==============================] - 862s 766ms/step - loss: 0.0279 - sparse_categorical_accuracy: 0.9919 - val_loss: 0.0107 - val_sparse_categorical_accuracy: 0.9967\n",
      "Epoch 9/30\n",
      "1125/1125 [==============================] - 863s 767ms/step - loss: 0.0250 - sparse_categorical_accuracy: 0.9934 - val_loss: 0.0101 - val_sparse_categorical_accuracy: 0.9973\n",
      "Epoch 10/30\n",
      "1125/1125 [==============================] - 863s 767ms/step - loss: 0.0178 - sparse_categorical_accuracy: 0.9944 - val_loss: 0.0052 - val_sparse_categorical_accuracy: 0.9980\n",
      "Epoch 11/30\n",
      "1125/1125 [==============================] - 861s 765ms/step - loss: 0.0143 - sparse_categorical_accuracy: 0.9959 - val_loss: 0.0056 - val_sparse_categorical_accuracy: 0.9980\n",
      "Epoch 12/30\n",
      "1125/1125 [==============================] - 862s 766ms/step - loss: 0.0133 - sparse_categorical_accuracy: 0.9968 - val_loss: 0.0053 - val_sparse_categorical_accuracy: 0.9987\n",
      "Epoch 13/30\n",
      "1125/1125 [==============================] - 863s 767ms/step - loss: 0.0154 - sparse_categorical_accuracy: 0.9953 - val_loss: 0.0072 - val_sparse_categorical_accuracy: 0.9977\n"
     ]
    }
   ],
   "source": [
    "from tensorflow.keras.callbacks import EarlyStopping\n",
    "# Run the distilbert model\n",
    "model_bert = TFAutoModelForSequenceClassification.from_pretrained(\"distilbert-base-uncased\", num_labels=len(cats2))\n",
    "model_bert.compile(optimizer=tf.keras.optimizers.Adam(learning_rate=1e-5, clipnorm=1.),\n",
    "        loss=tf.keras.losses.SparseCategoricalCrossentropy(from_logits=True),\n",
    "        metrics=[tf.metrics.SparseCategoricalAccuracy()]\n",
    "        )\n",
    " \n",
    "history2 = model_bert.fit(train_ds, validation_data = val_ds, epochs=30, verbose=1, callbacks=[EarlyStopping(monitor='val_loss', patience=3)])"
   ]
  },
  {
   "cell_type": "markdown",
   "metadata": {},
   "source": [
    "As we can see from the training, the model ran for a similar amount of epochs before settling into its top accuracy, which in this case has a validation accuracy of 99%"
   ]
  },
  {
   "cell_type": "code",
   "execution_count": 36,
   "metadata": {
    "id": "A6CXrlBgxCQV"
   },
   "outputs": [
    {
     "data": {
      "image/png": "[encoded data removed]",
      "text/plain": [
       "<Figure size 432x288 with 1 Axes>"
      ]
     },
     "metadata": {
      "needs_background": "light"
     },
     "output_type": "display_data"
    }
   ],
   "source": [
    "# Check the loss of the distilbert model\n",
    "plot_model_history(history2)"
   ]
  },
  {
   "cell_type": "markdown",
   "metadata": {},
   "source": [
    "The loss plot for this model looks a lot smoother than the LSTM model, and the train and test loss curves are a lot more correlated"
   ]
  },
  {
   "cell_type": "markdown",
   "metadata": {},
   "source": [
    "## DistilBERT Result Analysis  <a class=\"anchor\" id=\"bertresult\"></a>"
   ]
  },
  {
   "cell_type": "code",
   "execution_count": 37,
   "metadata": {
    "id": "mvhlneLMiicO"
   },
   "outputs": [
    {
     "name": "stdout",
     "output_type": "stream",
     "text": [
      "750/750 [==============================] - 110s 145ms/step - loss: 0.4608 - sparse_categorical_accuracy: 0.9150\n",
      "{'loss': 0.46079814434051514, 'sparse_categorical_accuracy': 0.9149999618530273}\n"
     ]
    }
   ],
   "source": [
    "# Evaluate on testing set\n",
    "eval_x = tokenizer(x_test2, padding=True, truncation=True, return_tensors='tf') #Tokenized text\n",
    "eval=tf.data.Dataset.from_tensor_slices((dict(eval_x), y_test2))\n",
    "\n",
    "# model evaluation on the test set\n",
    "print(model_bert.evaluate(eval.shuffle(len(x_test2)).batch(4), \n",
    "               return_dict=True, \n",
    "               batch_size=4))"
   ]
  },
  {
   "cell_type": "markdown",
   "metadata": {},
   "source": [
    "Our accuracy for this model as measured by the test dataset is about .06 higher than the LSTM model"
   ]
  },
  {
   "cell_type": "code",
   "execution_count": 38,
   "metadata": {
    "id": "en1mS5nji_xM"
   },
   "outputs": [
    {
     "name": "stderr",
     "output_type": "stream",
     "text": [
      "2022-05-14 14:08:35.273911: I tensorflow/core/grappler/optimizers/custom_graph_optimizer_registry.cc:112] Plugin optimizer for device_type GPU is enabled.\n"
     ]
    }
   ],
   "source": [
    "dataset = tf.data.Dataset.from_tensor_slices(dict(eval_x))\n",
    "preds_2 = model_bert.predict(dataset.batch(4)).logits  \n",
    "preds_2 = tf.nn.softmax(preds_2, axis=1).numpy()      "
   ]
  },
  {
   "cell_type": "code",
   "execution_count": 41,
   "metadata": {
    "id": "__A6PsD8jFXi"
   },
   "outputs": [],
   "source": [
    "for (i, arr) in enumerate(preds_2):\n",
    "  preds_2[i] = convert_to_prediction(arr)"
   ]
  },
  {
   "cell_type": "code",
   "execution_count": 44,
   "metadata": {
    "id": "ul4EjfldjIkm"
   },
   "outputs": [
    {
     "data": {
      "image/png": "[encoded data removed]",
      "text/plain": [
       "<Figure size 720x576 with 2 Axes>"
      ]
     },
     "metadata": {
      "needs_background": "light"
     },
     "output_type": "display_data"
    }
   ],
   "source": [
    "import sklearn\n",
    "cm =confusion_matrix([i + 1 for i in y_test2], np.dot(preds_2, np.array([1,2,3,4,5])))\n",
    "plt.figure(figsize=(10,8))\n",
    "# plt.figure()\n",
    "sns.heatmap(cm, annot=True,xticklabels=cats2,yticklabels=cats2)\n",
    "plt.title('Confusion Matrix')\n",
    "plt.ylabel('Actual Values')\n",
    "plt.xlabel('Predicted Values')\n",
    "plt.show()"
   ]
  },
  {
   "cell_type": "markdown",
   "metadata": {},
   "source": [
    "Unlike the LSTM model, this model's largest error rate comes from the missclassification of Statistics papers as Computer Science papers, which is very interesting since the previous model did the opposite. "
   ]
  },
  {
   "cell_type": "code",
   "execution_count": 46,
   "metadata": {
    "colab": {
     "base_uri": "https://localhost:8080/",
     "height": 187
    },
    "id": "o13wD_XwjMVw",
    "outputId": "e7d9c8b5-2cc9-4cf4-e6fa-2590760ebca6"
   },
   "outputs": [
    {
     "name": "stdout",
     "output_type": "stream",
     "text": [
      "                  precision    recall  f1-score   support\n",
      "\n",
      "Computer Science       0.87      0.86      0.87       600\n",
      "            Math       0.91      0.93      0.92       600\n",
      "         Physics       0.96      0.98      0.97       600\n",
      "      Quant. Bio       0.92      0.93      0.93       600\n",
      "      Statistics       0.91      0.88      0.89       600\n",
      "\n",
      "       micro avg       0.92      0.92      0.92      3000\n",
      "       macro avg       0.91      0.92      0.91      3000\n",
      "    weighted avg       0.91      0.92      0.91      3000\n",
      "     samples avg       0.92      0.92      0.92      3000\n",
      "\n"
     ]
    }
   ],
   "source": [
    "from sklearn.metrics import classification_report\n",
    "y_test2_other = []\n",
    "for i in y_test2:\n",
    "    arr = [0]*5\n",
    "    arr[i] = 1\n",
    "    y_test2_other.append(arr)\n",
    "print(classification_report(y_test2_other, preds_2, target_names=cats2))"
   ]
  },
  {
   "cell_type": "markdown",
   "metadata": {},
   "source": [
    "We see that the general distribution fo the precision and recall is the same as the LSTM model, with computer science having the worse precision and physics the best, although this model is a lot more accurate for some of the other fields such as Statistics."
   ]
  },
  {
   "cell_type": "code",
   "execution_count": 47,
   "metadata": {
    "id": "6HvT5DDMjR5j"
   },
   "outputs": [],
   "source": [
    "# Create a new dataframe to analyze the misclassifications\n",
    "preds_2 = preds_2.astype('int32')\n",
    "df_result_2 = pd.DataFrame({\n",
    "    'text': x_test2,\n",
    "    'actual': list([i + 1 for i in y_test2]),\n",
    "    'predicted': list(np.dot(preds_2, np.array([1,2,3,4,5])))\n",
    "})\n"
   ]
  },
  {
   "cell_type": "code",
   "execution_count": 49,
   "metadata": {
    "id": "kUa92qUljVyW"
   },
   "outputs": [
    {
     "data": {
      "text/html": [
       "<div>\n",
       "<style scoped>\n",
       "    .dataframe tbody tr th:only-of-type {\n",
       "        vertical-align: middle;\n",
       "    }\n",
       "\n",
       "    .dataframe tbody tr th {\n",
       "        vertical-align: top;\n",
       "    }\n",
       "\n",
       "    .dataframe thead th {\n",
       "        text-align: right;\n",
       "    }\n",
       "</style>\n",
       "<table border=\"1\" class=\"dataframe\">\n",
       "  <thead>\n",
       "    <tr style=\"text-align: right;\">\n",
       "      <th></th>\n",
       "      <th>text</th>\n",
       "      <th>actual</th>\n",
       "      <th>predicted</th>\n",
       "    </tr>\n",
       "  </thead>\n",
       "  <tbody>\n",
       "    <tr>\n",
       "      <th>109</th>\n",
       "      <td>Many of the early works in the quality contr...</td>\n",
       "      <td>5</td>\n",
       "      <td>1</td>\n",
       "    </tr>\n",
       "    <tr>\n",
       "      <th>324</th>\n",
       "      <td>We obtain an index of the complexity of a ra...</td>\n",
       "      <td>5</td>\n",
       "      <td>1</td>\n",
       "    </tr>\n",
       "    <tr>\n",
       "      <th>347</th>\n",
       "      <td>Despite the recent progress towards efficien...</td>\n",
       "      <td>5</td>\n",
       "      <td>1</td>\n",
       "    </tr>\n",
       "    <tr>\n",
       "      <th>372</th>\n",
       "      <td>When analyzing interaction networks, it is c...</td>\n",
       "      <td>5</td>\n",
       "      <td>1</td>\n",
       "    </tr>\n",
       "    <tr>\n",
       "      <th>472</th>\n",
       "      <td>In this paper, we analyze the celebrated EM ...</td>\n",
       "      <td>5</td>\n",
       "      <td>1</td>\n",
       "    </tr>\n",
       "    <tr>\n",
       "      <th>487</th>\n",
       "      <td>This paper introduces a novel paradigm to im...</td>\n",
       "      <td>5</td>\n",
       "      <td>1</td>\n",
       "    </tr>\n",
       "    <tr>\n",
       "      <th>611</th>\n",
       "      <td>Due to space limitations, our submission \"So...</td>\n",
       "      <td>5</td>\n",
       "      <td>1</td>\n",
       "    </tr>\n",
       "    <tr>\n",
       "      <th>775</th>\n",
       "      <td>In the applications related to airborne rada...</td>\n",
       "      <td>5</td>\n",
       "      <td>1</td>\n",
       "    </tr>\n",
       "    <tr>\n",
       "      <th>787</th>\n",
       "      <td>Combining forecast from different models has...</td>\n",
       "      <td>5</td>\n",
       "      <td>1</td>\n",
       "    </tr>\n",
       "    <tr>\n",
       "      <th>819</th>\n",
       "      <td>Nonnegative matrix factorization (NMF) is no...</td>\n",
       "      <td>5</td>\n",
       "      <td>1</td>\n",
       "    </tr>\n",
       "    <tr>\n",
       "      <th>981</th>\n",
       "      <td>We improve recently published results about ...</td>\n",
       "      <td>5</td>\n",
       "      <td>1</td>\n",
       "    </tr>\n",
       "    <tr>\n",
       "      <th>1088</th>\n",
       "      <td>Analyzing the consistency of preferences is ...</td>\n",
       "      <td>5</td>\n",
       "      <td>1</td>\n",
       "    </tr>\n",
       "    <tr>\n",
       "      <th>1148</th>\n",
       "      <td>Investment approaches in financial instrumen...</td>\n",
       "      <td>5</td>\n",
       "      <td>1</td>\n",
       "    </tr>\n",
       "    <tr>\n",
       "      <th>1256</th>\n",
       "      <td>The problem of multiple hypothesis testing a...</td>\n",
       "      <td>5</td>\n",
       "      <td>1</td>\n",
       "    </tr>\n",
       "    <tr>\n",
       "      <th>1428</th>\n",
       "      <td>Withdrawn due to extensions and submission a...</td>\n",
       "      <td>5</td>\n",
       "      <td>1</td>\n",
       "    </tr>\n",
       "    <tr>\n",
       "      <th>1468</th>\n",
       "      <td>This paper consider the problem of determini...</td>\n",
       "      <td>5</td>\n",
       "      <td>1</td>\n",
       "    </tr>\n",
       "    <tr>\n",
       "      <th>1543</th>\n",
       "      <td>Sparse coding consists in representing signa...</td>\n",
       "      <td>5</td>\n",
       "      <td>1</td>\n",
       "    </tr>\n",
       "    <tr>\n",
       "      <th>1691</th>\n",
       "      <td>Performance period determination and bad def...</td>\n",
       "      <td>5</td>\n",
       "      <td>1</td>\n",
       "    </tr>\n",
       "    <tr>\n",
       "      <th>1693</th>\n",
       "      <td>We introduce the optimal obstacle placement ...</td>\n",
       "      <td>5</td>\n",
       "      <td>1</td>\n",
       "    </tr>\n",
       "    <tr>\n",
       "      <th>1744</th>\n",
       "      <td>Statistics is a uniquely difficult field to ...</td>\n",
       "      <td>5</td>\n",
       "      <td>1</td>\n",
       "    </tr>\n",
       "    <tr>\n",
       "      <th>1752</th>\n",
       "      <td>We present a thinking on the concept of rela...</td>\n",
       "      <td>5</td>\n",
       "      <td>1</td>\n",
       "    </tr>\n",
       "    <tr>\n",
       "      <th>2209</th>\n",
       "      <td>A simple and computationally efficient schem...</td>\n",
       "      <td>5</td>\n",
       "      <td>1</td>\n",
       "    </tr>\n",
       "    <tr>\n",
       "      <th>2249</th>\n",
       "      <td>In this paper, we study the alternating dire...</td>\n",
       "      <td>5</td>\n",
       "      <td>1</td>\n",
       "    </tr>\n",
       "    <tr>\n",
       "      <th>2256</th>\n",
       "      <td>In discriminating between objects from diffe...</td>\n",
       "      <td>5</td>\n",
       "      <td>1</td>\n",
       "    </tr>\n",
       "    <tr>\n",
       "      <th>2348</th>\n",
       "      <td>This paper concerns with the sensor manageme...</td>\n",
       "      <td>5</td>\n",
       "      <td>1</td>\n",
       "    </tr>\n",
       "    <tr>\n",
       "      <th>2491</th>\n",
       "      <td>The recently proposed sequential distributed...</td>\n",
       "      <td>5</td>\n",
       "      <td>1</td>\n",
       "    </tr>\n",
       "    <tr>\n",
       "      <th>2537</th>\n",
       "      <td>We present the Procrustes measure, a novel m...</td>\n",
       "      <td>5</td>\n",
       "      <td>1</td>\n",
       "    </tr>\n",
       "    <tr>\n",
       "      <th>2550</th>\n",
       "      <td>In this paper we develop a scientific approa...</td>\n",
       "      <td>5</td>\n",
       "      <td>1</td>\n",
       "    </tr>\n",
       "    <tr>\n",
       "      <th>2606</th>\n",
       "      <td>The estimation of missing input vector eleme...</td>\n",
       "      <td>5</td>\n",
       "      <td>1</td>\n",
       "    </tr>\n",
       "    <tr>\n",
       "      <th>2627</th>\n",
       "      <td>In this paper, a method for the digital simu...</td>\n",
       "      <td>5</td>\n",
       "      <td>1</td>\n",
       "    </tr>\n",
       "    <tr>\n",
       "      <th>2683</th>\n",
       "      <td>Autoencoder neural network is implemented to...</td>\n",
       "      <td>5</td>\n",
       "      <td>1</td>\n",
       "    </tr>\n",
       "    <tr>\n",
       "      <th>2706</th>\n",
       "      <td>We investigate the role of the initializatio...</td>\n",
       "      <td>5</td>\n",
       "      <td>1</td>\n",
       "    </tr>\n",
       "    <tr>\n",
       "      <th>2725</th>\n",
       "      <td>We construct a framework for studying cluste...</td>\n",
       "      <td>5</td>\n",
       "      <td>1</td>\n",
       "    </tr>\n",
       "    <tr>\n",
       "      <th>2743</th>\n",
       "      <td>In most papers establishing consistency for ...</td>\n",
       "      <td>5</td>\n",
       "      <td>1</td>\n",
       "    </tr>\n",
       "    <tr>\n",
       "      <th>2773</th>\n",
       "      <td>Effective sensor scheduling requires the con...</td>\n",
       "      <td>5</td>\n",
       "      <td>1</td>\n",
       "    </tr>\n",
       "    <tr>\n",
       "      <th>2834</th>\n",
       "      <td>Compressed sensing is a new methodology for ...</td>\n",
       "      <td>5</td>\n",
       "      <td>1</td>\n",
       "    </tr>\n",
       "    <tr>\n",
       "      <th>2835</th>\n",
       "      <td>This paper reviews the role of expert judgem...</td>\n",
       "      <td>5</td>\n",
       "      <td>1</td>\n",
       "    </tr>\n",
       "    <tr>\n",
       "      <th>2852</th>\n",
       "      <td>In epidemiology, the person-years method is ...</td>\n",
       "      <td>5</td>\n",
       "      <td>1</td>\n",
       "    </tr>\n",
       "  </tbody>\n",
       "</table>\n",
       "</div>"
      ],
      "text/plain": [
       "                                                   text  actual  predicted\n",
       "109     Many of the early works in the quality contr...       5          1\n",
       "324     We obtain an index of the complexity of a ra...       5          1\n",
       "347     Despite the recent progress towards efficien...       5          1\n",
       "372     When analyzing interaction networks, it is c...       5          1\n",
       "472     In this paper, we analyze the celebrated EM ...       5          1\n",
       "487     This paper introduces a novel paradigm to im...       5          1\n",
       "611     Due to space limitations, our submission \"So...       5          1\n",
       "775     In the applications related to airborne rada...       5          1\n",
       "787     Combining forecast from different models has...       5          1\n",
       "819     Nonnegative matrix factorization (NMF) is no...       5          1\n",
       "981     We improve recently published results about ...       5          1\n",
       "1088    Analyzing the consistency of preferences is ...       5          1\n",
       "1148    Investment approaches in financial instrumen...       5          1\n",
       "1256    The problem of multiple hypothesis testing a...       5          1\n",
       "1428    Withdrawn due to extensions and submission a...       5          1\n",
       "1468    This paper consider the problem of determini...       5          1\n",
       "1543    Sparse coding consists in representing signa...       5          1\n",
       "1691    Performance period determination and bad def...       5          1\n",
       "1693    We introduce the optimal obstacle placement ...       5          1\n",
       "1744    Statistics is a uniquely difficult field to ...       5          1\n",
       "1752    We present a thinking on the concept of rela...       5          1\n",
       "2209    A simple and computationally efficient schem...       5          1\n",
       "2249    In this paper, we study the alternating dire...       5          1\n",
       "2256    In discriminating between objects from diffe...       5          1\n",
       "2348    This paper concerns with the sensor manageme...       5          1\n",
       "2491    The recently proposed sequential distributed...       5          1\n",
       "2537    We present the Procrustes measure, a novel m...       5          1\n",
       "2550    In this paper we develop a scientific approa...       5          1\n",
       "2606    The estimation of missing input vector eleme...       5          1\n",
       "2627    In this paper, a method for the digital simu...       5          1\n",
       "2683    Autoencoder neural network is implemented to...       5          1\n",
       "2706    We investigate the role of the initializatio...       5          1\n",
       "2725    We construct a framework for studying cluste...       5          1\n",
       "2743    In most papers establishing consistency for ...       5          1\n",
       "2773    Effective sensor scheduling requires the con...       5          1\n",
       "2834    Compressed sensing is a new methodology for ...       5          1\n",
       "2835    This paper reviews the role of expert judgem...       5          1\n",
       "2852    In epidemiology, the person-years method is ...       5          1"
      ]
     },
     "execution_count": 49,
     "metadata": {},
     "output_type": "execute_result"
    }
   ],
   "source": [
    "# Statistics Papers that are classified as Computer Science\n",
    "df_result_2[(df_result_2['actual']==5) & (df_result_2['predicted']==1)]"
   ]
  },
  {
   "cell_type": "markdown",
   "metadata": {},
   "source": [
    "As we can see, a lot of the papers that were missclassified by the model seem to fall under the intersection of computer science and statistics, even though they were only classified as statistics"
   ]
  },
  {
   "cell_type": "markdown",
   "metadata": {},
   "source": [
    "# Conclusion  <a class=\"anchor\" id=\"conclusion\"></a>\n",
    "\n",
    "Our two models gave us very comparable results on the dataset, with the Transformers model performing slightly better than our LSTM model. This could partially be due to the larger size of the model, as well as the fact that it is a finetuning of a previous existing and very well renowned text classification model (DistilBERT). Thus, our constructed LSTM model performs very well in comparison to the state of the art system. We see in both models that Physics is the most distinguishable of all the fields, while computer science and statistics are harder to identify, and are sometimes comfused with each other, which to anyone who is familiar with those two fields will understand, as there is a large amount of overlap, and also since a lot of scientific fields borrow and use techniques from those two fields. However, accuracies of 86% and 92% are very impressive for a model that is only reading the abstract. We postulate that further research would show that reading the entire scientific paper would probably provide a higher accuracy for either model, as it would provide a lot more context to the transformer model, as well as give more data to train on in the LSTM model."
   ]
  }
 ],
 "metadata": {
  "accelerator": "GPU",
  "colab": {
   "collapsed_sections": [],
   "name": "NLP_Project_edition1.ipynb",
   "provenance": []
  },
  "interpreter": {
   "hash": "67767d06be0f5156148f6db47a3abaaab1cbfd2950ed7cb04df684b2465ef897"
  },
  "kernelspec": {
   "display_name": "Python 3",
   "language": "python",
   "name": "python3"
  },
  "language_info": {
   "codemirror_mode": {
    "name": "ipython",
    "version": 3
   },
   "file_extension": ".py",
   "mimetype": "text/x-python",
   "name": "python",
   "nbconvert_exporter": "python",
   "pygments_lexer": "ipython3",
   "version": "3.7.4"
  },
  "widgets": {
   "application/vnd.jupyter.widget-state+json": {
    "0530894a0a324225bb27f9c0cb3b7b2d": {
     "model_module": "@jupyter-widgets/controls",
     "model_module_version": "1.5.0",
     "model_name": "HTMLModel",
     "state": {
      "_dom_classes": [],
      "_model_module": "@jupyter-widgets/controls",
      "_model_module_version": "1.5.0",
      "_model_name": "HTMLModel",
      "_view_count": null,
      "_view_module": "@jupyter-widgets/controls",
      "_view_module_version": "1.5.0",
      "_view_name": "HTMLView",
      "description": "",
      "description_tooltip": null,
      "layout": "IPY_MODEL_9e4e815611084c16bf31d52a939ed188",
      "placeholder": "​",
      "style": "IPY_MODEL_ddb220350d5e42009dcef120ab208c95",
      "value": "Downloading: 100%"
     }
    },
    "064e3dd6a16a49cabd5221f47e081ef9": {
     "model_module": "@jupyter-widgets/base",
     "model_module_version": "1.2.0",
     "model_name": "LayoutModel",
     "state": {
      "_model_module": "@jupyter-widgets/base",
      "_model_module_version": "1.2.0",
      "_model_name": "LayoutModel",
      "_view_count": null,
      "_view_module": "@jupyter-widgets/base",
      "_view_module_version": "1.2.0",
      "_view_name": "LayoutView",
      "align_content": null,
      "align_items": null,
      "align_self": null,
      "border": null,
      "bottom": null,
      "display": null,
      "flex": null,
      "flex_flow": null,
      "grid_area": null,
      "grid_auto_columns": null,
      "grid_auto_flow": null,
      "grid_auto_rows": null,
      "grid_column": null,
      "grid_gap": null,
      "grid_row": null,
      "grid_template_areas": null,
      "grid_template_columns": null,
      "grid_template_rows": null,
      "height": null,
      "justify_content": null,
      "justify_items": null,
      "left": null,
      "margin": null,
      "max_height": null,
      "max_width": null,
      "min_height": null,
      "min_width": null,
      "object_fit": null,
      "object_position": null,
      "order": null,
      "overflow": null,
      "overflow_x": null,
      "overflow_y": null,
      "padding": null,
      "right": null,
      "top": null,
      "visibility": null,
      "width": null
     }
    },
    "068ccf5a4c2d49c09e8f66deff5ede3a": {
     "model_module": "@jupyter-widgets/controls",
     "model_module_version": "1.5.0",
     "model_name": "HTMLModel",
     "state": {
      "_dom_classes": [],
      "_model_module": "@jupyter-widgets/controls",
      "_model_module_version": "1.5.0",
      "_model_name": "HTMLModel",
      "_view_count": null,
      "_view_module": "@jupyter-widgets/controls",
      "_view_module_version": "1.5.0",
      "_view_name": "HTMLView",
      "description": "",
      "description_tooltip": null,
      "layout": "IPY_MODEL_3ad6a2eef778480d8940858a280c61ac",
      "placeholder": "​",
      "style": "IPY_MODEL_758b273491d4415d8be937a7d6cb73eb",
      "value": " 347M/347M [00:16&lt;00:00, 59.7MB/s]"
     }
    },
    "13dad6e7c93e45a9a09570e2d5c01629": {
     "model_module": "@jupyter-widgets/base",
     "model_module_version": "1.2.0",
     "model_name": "LayoutModel",
     "state": {
      "_model_module": "@jupyter-widgets/base",
      "_model_module_version": "1.2.0",
      "_model_name": "LayoutModel",
      "_view_count": null,
      "_view_module": "@jupyter-widgets/base",
      "_view_module_version": "1.2.0",
      "_view_name": "LayoutView",
      "align_content": null,
      "align_items": null,
      "align_self": null,
      "border": null,
      "bottom": null,
      "display": null,
      "flex": null,
      "flex_flow": null,
      "grid_area": null,
      "grid_auto_columns": null,
      "grid_auto_flow": null,
      "grid_auto_rows": null,
      "grid_column": null,
      "grid_gap": null,
      "grid_row": null,
      "grid_template_areas": null,
      "grid_template_columns": null,
      "grid_template_rows": null,
      "height": null,
      "justify_content": null,
      "justify_items": null,
      "left": null,
      "margin": null,
      "max_height": null,
      "max_width": null,
      "min_height": null,
      "min_width": null,
      "object_fit": null,
      "object_position": null,
      "order": null,
      "overflow": null,
      "overflow_x": null,
      "overflow_y": null,
      "padding": null,
      "right": null,
      "top": null,
      "visibility": null,
      "width": null
     }
    },
    "167585c5b4c94a78a2ca9f3d479e8592": {
     "model_module": "@jupyter-widgets/controls",
     "model_module_version": "1.5.0",
     "model_name": "DescriptionStyleModel",
     "state": {
      "_model_module": "@jupyter-widgets/controls",
      "_model_module_version": "1.5.0",
      "_model_name": "DescriptionStyleModel",
      "_view_count": null,
      "_view_module": "@jupyter-widgets/base",
      "_view_module_version": "1.2.0",
      "_view_name": "StyleView",
      "description_width": ""
     }
    },
    "1b78a34805614588a33354e652625624": {
     "model_module": "@jupyter-widgets/controls",
     "model_module_version": "1.5.0",
     "model_name": "DescriptionStyleModel",
     "state": {
      "_model_module": "@jupyter-widgets/controls",
      "_model_module_version": "1.5.0",
      "_model_name": "DescriptionStyleModel",
      "_view_count": null,
      "_view_module": "@jupyter-widgets/base",
      "_view_module_version": "1.2.0",
      "_view_name": "StyleView",
      "description_width": ""
     }
    },
    "1c9366b712164fc181654e165999f178": {
     "model_module": "@jupyter-widgets/base",
     "model_module_version": "1.2.0",
     "model_name": "LayoutModel",
     "state": {
      "_model_module": "@jupyter-widgets/base",
      "_model_module_version": "1.2.0",
      "_model_name": "LayoutModel",
      "_view_count": null,
      "_view_module": "@jupyter-widgets/base",
      "_view_module_version": "1.2.0",
      "_view_name": "LayoutView",
      "align_content": null,
      "align_items": null,
      "align_self": null,
      "border": null,
      "bottom": null,
      "display": null,
      "flex": null,
      "flex_flow": null,
      "grid_area": null,
      "grid_auto_columns": null,
      "grid_auto_flow": null,
      "grid_auto_rows": null,
      "grid_column": null,
      "grid_gap": null,
      "grid_row": null,
      "grid_template_areas": null,
      "grid_template_columns": null,
      "grid_template_rows": null,
      "height": null,
      "justify_content": null,
      "justify_items": null,
      "left": null,
      "margin": null,
      "max_height": null,
      "max_width": null,
      "min_height": null,
      "min_width": null,
      "object_fit": null,
      "object_position": null,
      "order": null,
      "overflow": null,
      "overflow_x": null,
      "overflow_y": null,
      "padding": null,
      "right": null,
      "top": null,
      "visibility": null,
      "width": null
     }
    },
    "262623adf7fa4c69a420356c1cf2b00f": {
     "model_module": "@jupyter-widgets/controls",
     "model_module_version": "1.5.0",
     "model_name": "DescriptionStyleModel",
     "state": {
      "_model_module": "@jupyter-widgets/controls",
      "_model_module_version": "1.5.0",
      "_model_name": "DescriptionStyleModel",
      "_view_count": null,
      "_view_module": "@jupyter-widgets/base",
      "_view_module_version": "1.2.0",
      "_view_name": "StyleView",
      "description_width": ""
     }
    },
    "385a8374f3d04a29b70f406060a3fc1c": {
     "model_module": "@jupyter-widgets/controls",
     "model_module_version": "1.5.0",
     "model_name": "HTMLModel",
     "state": {
      "_dom_classes": [],
      "_model_module": "@jupyter-widgets/controls",
      "_model_module_version": "1.5.0",
      "_model_name": "HTMLModel",
      "_view_count": null,
      "_view_module": "@jupyter-widgets/controls",
      "_view_module_version": "1.5.0",
      "_view_name": "HTMLView",
      "description": "",
      "description_tooltip": null,
      "layout": "IPY_MODEL_63edd68125d94ea3a0f1ca518cddfc66",
      "placeholder": "​",
      "style": "IPY_MODEL_1b78a34805614588a33354e652625624",
      "value": "Downloading: 100%"
     }
    },
    "3ad6a2eef778480d8940858a280c61ac": {
     "model_module": "@jupyter-widgets/base",
     "model_module_version": "1.2.0",
     "model_name": "LayoutModel",
     "state": {
      "_model_module": "@jupyter-widgets/base",
      "_model_module_version": "1.2.0",
      "_model_name": "LayoutModel",
      "_view_count": null,
      "_view_module": "@jupyter-widgets/base",
      "_view_module_version": "1.2.0",
      "_view_name": "LayoutView",
      "align_content": null,
      "align_items": null,
      "align_self": null,
      "border": null,
      "bottom": null,
      "display": null,
      "flex": null,
      "flex_flow": null,
      "grid_area": null,
      "grid_auto_columns": null,
      "grid_auto_flow": null,
      "grid_auto_rows": null,
      "grid_column": null,
      "grid_gap": null,
      "grid_row": null,
      "grid_template_areas": null,
      "grid_template_columns": null,
      "grid_template_rows": null,
      "height": null,
      "justify_content": null,
      "justify_items": null,
      "left": null,
      "margin": null,
      "max_height": null,
      "max_width": null,
      "min_height": null,
      "min_width": null,
      "object_fit": null,
      "object_position": null,
      "order": null,
      "overflow": null,
      "overflow_x": null,
      "overflow_y": null,
      "padding": null,
      "right": null,
      "top": null,
      "visibility": null,
      "width": null
     }
    },
    "3b2f019f547d4ceea5a0a8e75e068e39": {
     "model_module": "@jupyter-widgets/base",
     "model_module_version": "1.2.0",
     "model_name": "LayoutModel",
     "state": {
      "_model_module": "@jupyter-widgets/base",
      "_model_module_version": "1.2.0",
      "_model_name": "LayoutModel",
      "_view_count": null,
      "_view_module": "@jupyter-widgets/base",
      "_view_module_version": "1.2.0",
      "_view_name": "LayoutView",
      "align_content": null,
      "align_items": null,
      "align_self": null,
      "border": null,
      "bottom": null,
      "display": null,
      "flex": null,
      "flex_flow": null,
      "grid_area": null,
      "grid_auto_columns": null,
      "grid_auto_flow": null,
      "grid_auto_rows": null,
      "grid_column": null,
      "grid_gap": null,
      "grid_row": null,
      "grid_template_areas": null,
      "grid_template_columns": null,
      "grid_template_rows": null,
      "height": null,
      "justify_content": null,
      "justify_items": null,
      "left": null,
      "margin": null,
      "max_height": null,
      "max_width": null,
      "min_height": null,
      "min_width": null,
      "object_fit": null,
      "object_position": null,
      "order": null,
      "overflow": null,
      "overflow_x": null,
      "overflow_y": null,
      "padding": null,
      "right": null,
      "top": null,
      "visibility": null,
      "width": null
     }
    },
    "3c06206f7f1b4030a2d43d323bc4d715": {
     "model_module": "@jupyter-widgets/controls",
     "model_module_version": "1.5.0",
     "model_name": "FloatProgressModel",
     "state": {
      "_dom_classes": [],
      "_model_module": "@jupyter-widgets/controls",
      "_model_module_version": "1.5.0",
      "_model_name": "FloatProgressModel",
      "_view_count": null,
      "_view_module": "@jupyter-widgets/controls",
      "_view_module_version": "1.5.0",
      "_view_name": "ProgressView",
      "bar_style": "success",
      "description": "",
      "description_tooltip": null,
      "layout": "IPY_MODEL_e09f922e761446ae9f24b3907fdfb811",
      "max": 231508,
      "min": 0,
      "orientation": "horizontal",
      "style": "IPY_MODEL_7e6686878c1742179d4265da3017c162",
      "value": 231508
     }
    },
    "43492bcc268f4bf59f01668f9bf2b972": {
     "model_module": "@jupyter-widgets/base",
     "model_module_version": "1.2.0",
     "model_name": "LayoutModel",
     "state": {
      "_model_module": "@jupyter-widgets/base",
      "_model_module_version": "1.2.0",
      "_model_name": "LayoutModel",
      "_view_count": null,
      "_view_module": "@jupyter-widgets/base",
      "_view_module_version": "1.2.0",
      "_view_name": "LayoutView",
      "align_content": null,
      "align_items": null,
      "align_self": null,
      "border": null,
      "bottom": null,
      "display": null,
      "flex": null,
      "flex_flow": null,
      "grid_area": null,
      "grid_auto_columns": null,
      "grid_auto_flow": null,
      "grid_auto_rows": null,
      "grid_column": null,
      "grid_gap": null,
      "grid_row": null,
      "grid_template_areas": null,
      "grid_template_columns": null,
      "grid_template_rows": null,
      "height": null,
      "justify_content": null,
      "justify_items": null,
      "left": null,
      "margin": null,
      "max_height": null,
      "max_width": null,
      "min_height": null,
      "min_width": null,
      "object_fit": null,
      "object_position": null,
      "order": null,
      "overflow": null,
      "overflow_x": null,
      "overflow_y": null,
      "padding": null,
      "right": null,
      "top": null,
      "visibility": null,
      "width": null
     }
    },
    "441b5e62f22e43a3acab6ccd2d3b4ae8": {
     "model_module": "@jupyter-widgets/base",
     "model_module_version": "1.2.0",
     "model_name": "LayoutModel",
     "state": {
      "_model_module": "@jupyter-widgets/base",
      "_model_module_version": "1.2.0",
      "_model_name": "LayoutModel",
      "_view_count": null,
      "_view_module": "@jupyter-widgets/base",
      "_view_module_version": "1.2.0",
      "_view_name": "LayoutView",
      "align_content": null,
      "align_items": null,
      "align_self": null,
      "border": null,
      "bottom": null,
      "display": null,
      "flex": null,
      "flex_flow": null,
      "grid_area": null,
      "grid_auto_columns": null,
      "grid_auto_flow": null,
      "grid_auto_rows": null,
      "grid_column": null,
      "grid_gap": null,
      "grid_row": null,
      "grid_template_areas": null,
      "grid_template_columns": null,
      "grid_template_rows": null,
      "height": null,
      "justify_content": null,
      "justify_items": null,
      "left": null,
      "margin": null,
      "max_height": null,
      "max_width": null,
      "min_height": null,
      "min_width": null,
      "object_fit": null,
      "object_position": null,
      "order": null,
      "overflow": null,
      "overflow_x": null,
      "overflow_y": null,
      "padding": null,
      "right": null,
      "top": null,
      "visibility": null,
      "width": null
     }
    },
    "44362691729c479988889888f0f68136": {
     "model_module": "@jupyter-widgets/controls",
     "model_module_version": "1.5.0",
     "model_name": "FloatProgressModel",
     "state": {
      "_dom_classes": [],
      "_model_module": "@jupyter-widgets/controls",
      "_model_module_version": "1.5.0",
      "_model_name": "FloatProgressModel",
      "_view_count": null,
      "_view_module": "@jupyter-widgets/controls",
      "_view_module_version": "1.5.0",
      "_view_name": "ProgressView",
      "bar_style": "success",
      "description": "",
      "description_tooltip": null,
      "layout": "IPY_MODEL_c4b6a27eb5f944e683ba5b852f6f7441",
      "max": 28,
      "min": 0,
      "orientation": "horizontal",
      "style": "IPY_MODEL_f42dc9551fa442b7900388d376c312bc",
      "value": 28
     }
    },
    "49ceb09349c4498c8205393e3f3691e7": {
     "model_module": "@jupyter-widgets/base",
     "model_module_version": "1.2.0",
     "model_name": "LayoutModel",
     "state": {
      "_model_module": "@jupyter-widgets/base",
      "_model_module_version": "1.2.0",
      "_model_name": "LayoutModel",
      "_view_count": null,
      "_view_module": "@jupyter-widgets/base",
      "_view_module_version": "1.2.0",
      "_view_name": "LayoutView",
      "align_content": null,
      "align_items": null,
      "align_self": null,
      "border": null,
      "bottom": null,
      "display": null,
      "flex": null,
      "flex_flow": null,
      "grid_area": null,
      "grid_auto_columns": null,
      "grid_auto_flow": null,
      "grid_auto_rows": null,
      "grid_column": null,
      "grid_gap": null,
      "grid_row": null,
      "grid_template_areas": null,
      "grid_template_columns": null,
      "grid_template_rows": null,
      "height": null,
      "justify_content": null,
      "justify_items": null,
      "left": null,
      "margin": null,
      "max_height": null,
      "max_width": null,
      "min_height": null,
      "min_width": null,
      "object_fit": null,
      "object_position": null,
      "order": null,
      "overflow": null,
      "overflow_x": null,
      "overflow_y": null,
      "padding": null,
      "right": null,
      "top": null,
      "visibility": null,
      "width": null
     }
    },
    "4c323bd0e143441e981e5a61cde18de2": {
     "model_module": "@jupyter-widgets/base",
     "model_module_version": "1.2.0",
     "model_name": "LayoutModel",
     "state": {
      "_model_module": "@jupyter-widgets/base",
      "_model_module_version": "1.2.0",
      "_model_name": "LayoutModel",
      "_view_count": null,
      "_view_module": "@jupyter-widgets/base",
      "_view_module_version": "1.2.0",
      "_view_name": "LayoutView",
      "align_content": null,
      "align_items": null,
      "align_self": null,
      "border": null,
      "bottom": null,
      "display": null,
      "flex": null,
      "flex_flow": null,
      "grid_area": null,
      "grid_auto_columns": null,
      "grid_auto_flow": null,
      "grid_auto_rows": null,
      "grid_column": null,
      "grid_gap": null,
      "grid_row": null,
      "grid_template_areas": null,
      "grid_template_columns": null,
      "grid_template_rows": null,
      "height": null,
      "justify_content": null,
      "justify_items": null,
      "left": null,
      "margin": null,
      "max_height": null,
      "max_width": null,
      "min_height": null,
      "min_width": null,
      "object_fit": null,
      "object_position": null,
      "order": null,
      "overflow": null,
      "overflow_x": null,
      "overflow_y": null,
      "padding": null,
      "right": null,
      "top": null,
      "visibility": null,
      "width": null
     }
    },
    "5fc387b61c5c4a0a9676aa5ea991b617": {
     "model_module": "@jupyter-widgets/controls",
     "model_module_version": "1.5.0",
     "model_name": "HTMLModel",
     "state": {
      "_dom_classes": [],
      "_model_module": "@jupyter-widgets/controls",
      "_model_module_version": "1.5.0",
      "_model_name": "HTMLModel",
      "_view_count": null,
      "_view_module": "@jupyter-widgets/controls",
      "_view_module_version": "1.5.0",
      "_view_name": "HTMLView",
      "description": "",
      "description_tooltip": null,
      "layout": "IPY_MODEL_814b14e0169d4618b323f641ac8667b0",
      "placeholder": "​",
      "style": "IPY_MODEL_167585c5b4c94a78a2ca9f3d479e8592",
      "value": " 28.0/28.0 [00:00&lt;00:00, 730B/s]"
     }
    },
    "63edd68125d94ea3a0f1ca518cddfc66": {
     "model_module": "@jupyter-widgets/base",
     "model_module_version": "1.2.0",
     "model_name": "LayoutModel",
     "state": {
      "_model_module": "@jupyter-widgets/base",
      "_model_module_version": "1.2.0",
      "_model_name": "LayoutModel",
      "_view_count": null,
      "_view_module": "@jupyter-widgets/base",
      "_view_module_version": "1.2.0",
      "_view_name": "LayoutView",
      "align_content": null,
      "align_items": null,
      "align_self": null,
      "border": null,
      "bottom": null,
      "display": null,
      "flex": null,
      "flex_flow": null,
      "grid_area": null,
      "grid_auto_columns": null,
      "grid_auto_flow": null,
      "grid_auto_rows": null,
      "grid_column": null,
      "grid_gap": null,
      "grid_row": null,
      "grid_template_areas": null,
      "grid_template_columns": null,
      "grid_template_rows": null,
      "height": null,
      "justify_content": null,
      "justify_items": null,
      "left": null,
      "margin": null,
      "max_height": null,
      "max_width": null,
      "min_height": null,
      "min_width": null,
      "object_fit": null,
      "object_position": null,
      "order": null,
      "overflow": null,
      "overflow_x": null,
      "overflow_y": null,
      "padding": null,
      "right": null,
      "top": null,
      "visibility": null,
      "width": null
     }
    },
    "64f58258271d442d84cfacad94d348d8": {
     "model_module": "@jupyter-widgets/base",
     "model_module_version": "1.2.0",
     "model_name": "LayoutModel",
     "state": {
      "_model_module": "@jupyter-widgets/base",
      "_model_module_version": "1.2.0",
      "_model_name": "LayoutModel",
      "_view_count": null,
      "_view_module": "@jupyter-widgets/base",
      "_view_module_version": "1.2.0",
      "_view_name": "LayoutView",
      "align_content": null,
      "align_items": null,
      "align_self": null,
      "border": null,
      "bottom": null,
      "display": null,
      "flex": null,
      "flex_flow": null,
      "grid_area": null,
      "grid_auto_columns": null,
      "grid_auto_flow": null,
      "grid_auto_rows": null,
      "grid_column": null,
      "grid_gap": null,
      "grid_row": null,
      "grid_template_areas": null,
      "grid_template_columns": null,
      "grid_template_rows": null,
      "height": null,
      "justify_content": null,
      "justify_items": null,
      "left": null,
      "margin": null,
      "max_height": null,
      "max_width": null,
      "min_height": null,
      "min_width": null,
      "object_fit": null,
      "object_position": null,
      "order": null,
      "overflow": null,
      "overflow_x": null,
      "overflow_y": null,
      "padding": null,
      "right": null,
      "top": null,
      "visibility": null,
      "width": null
     }
    },
    "68684c8fd4c140fd86d527a36bb0ba6f": {
     "model_module": "@jupyter-widgets/controls",
     "model_module_version": "1.5.0",
     "model_name": "HTMLModel",
     "state": {
      "_dom_classes": [],
      "_model_module": "@jupyter-widgets/controls",
      "_model_module_version": "1.5.0",
      "_model_name": "HTMLModel",
      "_view_count": null,
      "_view_module": "@jupyter-widgets/controls",
      "_view_module_version": "1.5.0",
      "_view_name": "HTMLView",
      "description": "",
      "description_tooltip": null,
      "layout": "IPY_MODEL_4c323bd0e143441e981e5a61cde18de2",
      "placeholder": "​",
      "style": "IPY_MODEL_262623adf7fa4c69a420356c1cf2b00f",
      "value": "Downloading: 100%"
     }
    },
    "758b273491d4415d8be937a7d6cb73eb": {
     "model_module": "@jupyter-widgets/controls",
     "model_module_version": "1.5.0",
     "model_name": "DescriptionStyleModel",
     "state": {
      "_model_module": "@jupyter-widgets/controls",
      "_model_module_version": "1.5.0",
      "_model_name": "DescriptionStyleModel",
      "_view_count": null,
      "_view_module": "@jupyter-widgets/base",
      "_view_module_version": "1.2.0",
      "_view_name": "StyleView",
      "description_width": ""
     }
    },
    "78b81e586cab48a48962139691f59690": {
     "model_module": "@jupyter-widgets/controls",
     "model_module_version": "1.5.0",
     "model_name": "HBoxModel",
     "state": {
      "_dom_classes": [],
      "_model_module": "@jupyter-widgets/controls",
      "_model_module_version": "1.5.0",
      "_model_name": "HBoxModel",
      "_view_count": null,
      "_view_module": "@jupyter-widgets/controls",
      "_view_module_version": "1.5.0",
      "_view_name": "HBoxView",
      "box_style": "",
      "children": [
       "IPY_MODEL_c62ada27ae1d4a58a1f4a3eafdb64377",
       "IPY_MODEL_c5c0727067a5454294ec60e2e4ecf304",
       "IPY_MODEL_898f4c22eed84bd4ae5efc4a86ef411a"
      ],
      "layout": "IPY_MODEL_064e3dd6a16a49cabd5221f47e081ef9"
     }
    },
    "7a89525618604085b3604cb35770a43e": {
     "model_module": "@jupyter-widgets/controls",
     "model_module_version": "1.5.0",
     "model_name": "HBoxModel",
     "state": {
      "_dom_classes": [],
      "_model_module": "@jupyter-widgets/controls",
      "_model_module_version": "1.5.0",
      "_model_name": "HBoxModel",
      "_view_count": null,
      "_view_module": "@jupyter-widgets/controls",
      "_view_module_version": "1.5.0",
      "_view_name": "HBoxView",
      "box_style": "",
      "children": [
       "IPY_MODEL_84ab4686c20a41ae96399d581acb2476",
       "IPY_MODEL_a2f1c62e26cc4f28a0fc0118c809aee9",
       "IPY_MODEL_ddc35c52a3704ba4a5c56cdfd617c08d"
      ],
      "layout": "IPY_MODEL_3b2f019f547d4ceea5a0a8e75e068e39"
     }
    },
    "7e6686878c1742179d4265da3017c162": {
     "model_module": "@jupyter-widgets/controls",
     "model_module_version": "1.5.0",
     "model_name": "ProgressStyleModel",
     "state": {
      "_model_module": "@jupyter-widgets/controls",
      "_model_module_version": "1.5.0",
      "_model_name": "ProgressStyleModel",
      "_view_count": null,
      "_view_module": "@jupyter-widgets/base",
      "_view_module_version": "1.2.0",
      "_view_name": "StyleView",
      "bar_color": null,
      "description_width": ""
     }
    },
    "811e1474409a43de965563163bfd0ff3": {
     "model_module": "@jupyter-widgets/base",
     "model_module_version": "1.2.0",
     "model_name": "LayoutModel",
     "state": {
      "_model_module": "@jupyter-widgets/base",
      "_model_module_version": "1.2.0",
      "_model_name": "LayoutModel",
      "_view_count": null,
      "_view_module": "@jupyter-widgets/base",
      "_view_module_version": "1.2.0",
      "_view_name": "LayoutView",
      "align_content": null,
      "align_items": null,
      "align_self": null,
      "border": null,
      "bottom": null,
      "display": null,
      "flex": null,
      "flex_flow": null,
      "grid_area": null,
      "grid_auto_columns": null,
      "grid_auto_flow": null,
      "grid_auto_rows": null,
      "grid_column": null,
      "grid_gap": null,
      "grid_row": null,
      "grid_template_areas": null,
      "grid_template_columns": null,
      "grid_template_rows": null,
      "height": null,
      "justify_content": null,
      "justify_items": null,
      "left": null,
      "margin": null,
      "max_height": null,
      "max_width": null,
      "min_height": null,
      "min_width": null,
      "object_fit": null,
      "object_position": null,
      "order": null,
      "overflow": null,
      "overflow_x": null,
      "overflow_y": null,
      "padding": null,
      "right": null,
      "top": null,
      "visibility": null,
      "width": null
     }
    },
    "814b14e0169d4618b323f641ac8667b0": {
     "model_module": "@jupyter-widgets/base",
     "model_module_version": "1.2.0",
     "model_name": "LayoutModel",
     "state": {
      "_model_module": "@jupyter-widgets/base",
      "_model_module_version": "1.2.0",
      "_model_name": "LayoutModel",
      "_view_count": null,
      "_view_module": "@jupyter-widgets/base",
      "_view_module_version": "1.2.0",
      "_view_name": "LayoutView",
      "align_content": null,
      "align_items": null,
      "align_self": null,
      "border": null,
      "bottom": null,
      "display": null,
      "flex": null,
      "flex_flow": null,
      "grid_area": null,
      "grid_auto_columns": null,
      "grid_auto_flow": null,
      "grid_auto_rows": null,
      "grid_column": null,
      "grid_gap": null,
      "grid_row": null,
      "grid_template_areas": null,
      "grid_template_columns": null,
      "grid_template_rows": null,
      "height": null,
      "justify_content": null,
      "justify_items": null,
      "left": null,
      "margin": null,
      "max_height": null,
      "max_width": null,
      "min_height": null,
      "min_width": null,
      "object_fit": null,
      "object_position": null,
      "order": null,
      "overflow": null,
      "overflow_x": null,
      "overflow_y": null,
      "padding": null,
      "right": null,
      "top": null,
      "visibility": null,
      "width": null
     }
    },
    "840702903fa04cc289a940e3f543506b": {
     "model_module": "@jupyter-widgets/base",
     "model_module_version": "1.2.0",
     "model_name": "LayoutModel",
     "state": {
      "_model_module": "@jupyter-widgets/base",
      "_model_module_version": "1.2.0",
      "_model_name": "LayoutModel",
      "_view_count": null,
      "_view_module": "@jupyter-widgets/base",
      "_view_module_version": "1.2.0",
      "_view_name": "LayoutView",
      "align_content": null,
      "align_items": null,
      "align_self": null,
      "border": null,
      "bottom": null,
      "display": null,
      "flex": null,
      "flex_flow": null,
      "grid_area": null,
      "grid_auto_columns": null,
      "grid_auto_flow": null,
      "grid_auto_rows": null,
      "grid_column": null,
      "grid_gap": null,
      "grid_row": null,
      "grid_template_areas": null,
      "grid_template_columns": null,
      "grid_template_rows": null,
      "height": null,
      "justify_content": null,
      "justify_items": null,
      "left": null,
      "margin": null,
      "max_height": null,
      "max_width": null,
      "min_height": null,
      "min_width": null,
      "object_fit": null,
      "object_position": null,
      "order": null,
      "overflow": null,
      "overflow_x": null,
      "overflow_y": null,
      "padding": null,
      "right": null,
      "top": null,
      "visibility": null,
      "width": null
     }
    },
    "84ab4686c20a41ae96399d581acb2476": {
     "model_module": "@jupyter-widgets/controls",
     "model_module_version": "1.5.0",
     "model_name": "HTMLModel",
     "state": {
      "_dom_classes": [],
      "_model_module": "@jupyter-widgets/controls",
      "_model_module_version": "1.5.0",
      "_model_name": "HTMLModel",
      "_view_count": null,
      "_view_module": "@jupyter-widgets/controls",
      "_view_module_version": "1.5.0",
      "_view_name": "HTMLView",
      "description": "",
      "description_tooltip": null,
      "layout": "IPY_MODEL_af717daf872240dc919035015999d863",
      "placeholder": "​",
      "style": "IPY_MODEL_941e0dc55cfd4779855bfed50135b24e",
      "value": "Downloading: 100%"
     }
    },
    "898f4c22eed84bd4ae5efc4a86ef411a": {
     "model_module": "@jupyter-widgets/controls",
     "model_module_version": "1.5.0",
     "model_name": "HTMLModel",
     "state": {
      "_dom_classes": [],
      "_model_module": "@jupyter-widgets/controls",
      "_model_module_version": "1.5.0",
      "_model_name": "HTMLModel",
      "_view_count": null,
      "_view_module": "@jupyter-widgets/controls",
      "_view_module_version": "1.5.0",
      "_view_name": "HTMLView",
      "description": "",
      "description_tooltip": null,
      "layout": "IPY_MODEL_9c59e5539cd04672b6a05d17d3365168",
      "placeholder": "​",
      "style": "IPY_MODEL_d25f3dc4b08843a2b24f74e2d6a9f200",
      "value": " 483/483 [00:00&lt;00:00, 9.27kB/s]"
     }
    },
    "89a0842e4e584b54b63f2289c495c8cf": {
     "model_module": "@jupyter-widgets/controls",
     "model_module_version": "1.5.0",
     "model_name": "DescriptionStyleModel",
     "state": {
      "_model_module": "@jupyter-widgets/controls",
      "_model_module_version": "1.5.0",
      "_model_name": "DescriptionStyleModel",
      "_view_count": null,
      "_view_module": "@jupyter-widgets/base",
      "_view_module_version": "1.2.0",
      "_view_name": "StyleView",
      "description_width": ""
     }
    },
    "941e0dc55cfd4779855bfed50135b24e": {
     "model_module": "@jupyter-widgets/controls",
     "model_module_version": "1.5.0",
     "model_name": "DescriptionStyleModel",
     "state": {
      "_model_module": "@jupyter-widgets/controls",
      "_model_module_version": "1.5.0",
      "_model_name": "DescriptionStyleModel",
      "_view_count": null,
      "_view_module": "@jupyter-widgets/base",
      "_view_module_version": "1.2.0",
      "_view_name": "StyleView",
      "description_width": ""
     }
    },
    "952c5099877045b398fdc2d2aee10795": {
     "model_module": "@jupyter-widgets/base",
     "model_module_version": "1.2.0",
     "model_name": "LayoutModel",
     "state": {
      "_model_module": "@jupyter-widgets/base",
      "_model_module_version": "1.2.0",
      "_model_name": "LayoutModel",
      "_view_count": null,
      "_view_module": "@jupyter-widgets/base",
      "_view_module_version": "1.2.0",
      "_view_name": "LayoutView",
      "align_content": null,
      "align_items": null,
      "align_self": null,
      "border": null,
      "bottom": null,
      "display": null,
      "flex": null,
      "flex_flow": null,
      "grid_area": null,
      "grid_auto_columns": null,
      "grid_auto_flow": null,
      "grid_auto_rows": null,
      "grid_column": null,
      "grid_gap": null,
      "grid_row": null,
      "grid_template_areas": null,
      "grid_template_columns": null,
      "grid_template_rows": null,
      "height": null,
      "justify_content": null,
      "justify_items": null,
      "left": null,
      "margin": null,
      "max_height": null,
      "max_width": null,
      "min_height": null,
      "min_width": null,
      "object_fit": null,
      "object_position": null,
      "order": null,
      "overflow": null,
      "overflow_x": null,
      "overflow_y": null,
      "padding": null,
      "right": null,
      "top": null,
      "visibility": null,
      "width": null
     }
    },
    "9c20090a8baa46459427d2cbeed66376": {
     "model_module": "@jupyter-widgets/controls",
     "model_module_version": "1.5.0",
     "model_name": "ProgressStyleModel",
     "state": {
      "_model_module": "@jupyter-widgets/controls",
      "_model_module_version": "1.5.0",
      "_model_name": "ProgressStyleModel",
      "_view_count": null,
      "_view_module": "@jupyter-widgets/base",
      "_view_module_version": "1.2.0",
      "_view_name": "StyleView",
      "bar_color": null,
      "description_width": ""
     }
    },
    "9c59e5539cd04672b6a05d17d3365168": {
     "model_module": "@jupyter-widgets/base",
     "model_module_version": "1.2.0",
     "model_name": "LayoutModel",
     "state": {
      "_model_module": "@jupyter-widgets/base",
      "_model_module_version": "1.2.0",
      "_model_name": "LayoutModel",
      "_view_count": null,
      "_view_module": "@jupyter-widgets/base",
      "_view_module_version": "1.2.0",
      "_view_name": "LayoutView",
      "align_content": null,
      "align_items": null,
      "align_self": null,
      "border": null,
      "bottom": null,
      "display": null,
      "flex": null,
      "flex_flow": null,
      "grid_area": null,
      "grid_auto_columns": null,
      "grid_auto_flow": null,
      "grid_auto_rows": null,
      "grid_column": null,
      "grid_gap": null,
      "grid_row": null,
      "grid_template_areas": null,
      "grid_template_columns": null,
      "grid_template_rows": null,
      "height": null,
      "justify_content": null,
      "justify_items": null,
      "left": null,
      "margin": null,
      "max_height": null,
      "max_width": null,
      "min_height": null,
      "min_width": null,
      "object_fit": null,
      "object_position": null,
      "order": null,
      "overflow": null,
      "overflow_x": null,
      "overflow_y": null,
      "padding": null,
      "right": null,
      "top": null,
      "visibility": null,
      "width": null
     }
    },
    "9e4e815611084c16bf31d52a939ed188": {
     "model_module": "@jupyter-widgets/base",
     "model_module_version": "1.2.0",
     "model_name": "LayoutModel",
     "state": {
      "_model_module": "@jupyter-widgets/base",
      "_model_module_version": "1.2.0",
      "_model_name": "LayoutModel",
      "_view_count": null,
      "_view_module": "@jupyter-widgets/base",
      "_view_module_version": "1.2.0",
      "_view_name": "LayoutView",
      "align_content": null,
      "align_items": null,
      "align_self": null,
      "border": null,
      "bottom": null,
      "display": null,
      "flex": null,
      "flex_flow": null,
      "grid_area": null,
      "grid_auto_columns": null,
      "grid_auto_flow": null,
      "grid_auto_rows": null,
      "grid_column": null,
      "grid_gap": null,
      "grid_row": null,
      "grid_template_areas": null,
      "grid_template_columns": null,
      "grid_template_rows": null,
      "height": null,
      "justify_content": null,
      "justify_items": null,
      "left": null,
      "margin": null,
      "max_height": null,
      "max_width": null,
      "min_height": null,
      "min_width": null,
      "object_fit": null,
      "object_position": null,
      "order": null,
      "overflow": null,
      "overflow_x": null,
      "overflow_y": null,
      "padding": null,
      "right": null,
      "top": null,
      "visibility": null,
      "width": null
     }
    },
    "a2f1c62e26cc4f28a0fc0118c809aee9": {
     "model_module": "@jupyter-widgets/controls",
     "model_module_version": "1.5.0",
     "model_name": "FloatProgressModel",
     "state": {
      "_dom_classes": [],
      "_model_module": "@jupyter-widgets/controls",
      "_model_module_version": "1.5.0",
      "_model_name": "FloatProgressModel",
      "_view_count": null,
      "_view_module": "@jupyter-widgets/controls",
      "_view_module_version": "1.5.0",
      "_view_name": "ProgressView",
      "bar_style": "success",
      "description": "",
      "description_tooltip": null,
      "layout": "IPY_MODEL_64f58258271d442d84cfacad94d348d8",
      "max": 466062,
      "min": 0,
      "orientation": "horizontal",
      "style": "IPY_MODEL_9c20090a8baa46459427d2cbeed66376",
      "value": 466062
     }
    },
    "a98a878982a8497592515d338796e29b": {
     "model_module": "@jupyter-widgets/controls",
     "model_module_version": "1.5.0",
     "model_name": "DescriptionStyleModel",
     "state": {
      "_model_module": "@jupyter-widgets/controls",
      "_model_module_version": "1.5.0",
      "_model_name": "DescriptionStyleModel",
      "_view_count": null,
      "_view_module": "@jupyter-widgets/base",
      "_view_module_version": "1.2.0",
      "_view_name": "StyleView",
      "description_width": ""
     }
    },
    "af717daf872240dc919035015999d863": {
     "model_module": "@jupyter-widgets/base",
     "model_module_version": "1.2.0",
     "model_name": "LayoutModel",
     "state": {
      "_model_module": "@jupyter-widgets/base",
      "_model_module_version": "1.2.0",
      "_model_name": "LayoutModel",
      "_view_count": null,
      "_view_module": "@jupyter-widgets/base",
      "_view_module_version": "1.2.0",
      "_view_name": "LayoutView",
      "align_content": null,
      "align_items": null,
      "align_self": null,
      "border": null,
      "bottom": null,
      "display": null,
      "flex": null,
      "flex_flow": null,
      "grid_area": null,
      "grid_auto_columns": null,
      "grid_auto_flow": null,
      "grid_auto_rows": null,
      "grid_column": null,
      "grid_gap": null,
      "grid_row": null,
      "grid_template_areas": null,
      "grid_template_columns": null,
      "grid_template_rows": null,
      "height": null,
      "justify_content": null,
      "justify_items": null,
      "left": null,
      "margin": null,
      "max_height": null,
      "max_width": null,
      "min_height": null,
      "min_width": null,
      "object_fit": null,
      "object_position": null,
      "order": null,
      "overflow": null,
      "overflow_x": null,
      "overflow_y": null,
      "padding": null,
      "right": null,
      "top": null,
      "visibility": null,
      "width": null
     }
    },
    "b8d136faf4d040cea86540e6f1a2ac60": {
     "model_module": "@jupyter-widgets/controls",
     "model_module_version": "1.5.0",
     "model_name": "FloatProgressModel",
     "state": {
      "_dom_classes": [],
      "_model_module": "@jupyter-widgets/controls",
      "_model_module_version": "1.5.0",
      "_model_name": "FloatProgressModel",
      "_view_count": null,
      "_view_module": "@jupyter-widgets/controls",
      "_view_module_version": "1.5.0",
      "_view_name": "ProgressView",
      "bar_style": "success",
      "description": "",
      "description_tooltip": null,
      "layout": "IPY_MODEL_1c9366b712164fc181654e165999f178",
      "max": 363423424,
      "min": 0,
      "orientation": "horizontal",
      "style": "IPY_MODEL_f327403983de4e34bc3b71d8e849ff97",
      "value": 363423424
     }
    },
    "c2c7a23dbbef4533835cb58807a82abd": {
     "model_module": "@jupyter-widgets/controls",
     "model_module_version": "1.5.0",
     "model_name": "DescriptionStyleModel",
     "state": {
      "_model_module": "@jupyter-widgets/controls",
      "_model_module_version": "1.5.0",
      "_model_name": "DescriptionStyleModel",
      "_view_count": null,
      "_view_module": "@jupyter-widgets/base",
      "_view_module_version": "1.2.0",
      "_view_name": "StyleView",
      "description_width": ""
     }
    },
    "c49c37e203a04701a462623b23e4939c": {
     "model_module": "@jupyter-widgets/controls",
     "model_module_version": "1.5.0",
     "model_name": "HBoxModel",
     "state": {
      "_dom_classes": [],
      "_model_module": "@jupyter-widgets/controls",
      "_model_module_version": "1.5.0",
      "_model_name": "HBoxModel",
      "_view_count": null,
      "_view_module": "@jupyter-widgets/controls",
      "_view_module_version": "1.5.0",
      "_view_name": "HBoxView",
      "box_style": "",
      "children": [
       "IPY_MODEL_68684c8fd4c140fd86d527a36bb0ba6f",
       "IPY_MODEL_b8d136faf4d040cea86540e6f1a2ac60",
       "IPY_MODEL_068ccf5a4c2d49c09e8f66deff5ede3a"
      ],
      "layout": "IPY_MODEL_49ceb09349c4498c8205393e3f3691e7"
     }
    },
    "c4b6a27eb5f944e683ba5b852f6f7441": {
     "model_module": "@jupyter-widgets/base",
     "model_module_version": "1.2.0",
     "model_name": "LayoutModel",
     "state": {
      "_model_module": "@jupyter-widgets/base",
      "_model_module_version": "1.2.0",
      "_model_name": "LayoutModel",
      "_view_count": null,
      "_view_module": "@jupyter-widgets/base",
      "_view_module_version": "1.2.0",
      "_view_name": "LayoutView",
      "align_content": null,
      "align_items": null,
      "align_self": null,
      "border": null,
      "bottom": null,
      "display": null,
      "flex": null,
      "flex_flow": null,
      "grid_area": null,
      "grid_auto_columns": null,
      "grid_auto_flow": null,
      "grid_auto_rows": null,
      "grid_column": null,
      "grid_gap": null,
      "grid_row": null,
      "grid_template_areas": null,
      "grid_template_columns": null,
      "grid_template_rows": null,
      "height": null,
      "justify_content": null,
      "justify_items": null,
      "left": null,
      "margin": null,
      "max_height": null,
      "max_width": null,
      "min_height": null,
      "min_width": null,
      "object_fit": null,
      "object_position": null,
      "order": null,
      "overflow": null,
      "overflow_x": null,
      "overflow_y": null,
      "padding": null,
      "right": null,
      "top": null,
      "visibility": null,
      "width": null
     }
    },
    "c5c0727067a5454294ec60e2e4ecf304": {
     "model_module": "@jupyter-widgets/controls",
     "model_module_version": "1.5.0",
     "model_name": "FloatProgressModel",
     "state": {
      "_dom_classes": [],
      "_model_module": "@jupyter-widgets/controls",
      "_model_module_version": "1.5.0",
      "_model_name": "FloatProgressModel",
      "_view_count": null,
      "_view_module": "@jupyter-widgets/controls",
      "_view_module_version": "1.5.0",
      "_view_name": "ProgressView",
      "bar_style": "success",
      "description": "",
      "description_tooltip": null,
      "layout": "IPY_MODEL_441b5e62f22e43a3acab6ccd2d3b4ae8",
      "max": 483,
      "min": 0,
      "orientation": "horizontal",
      "style": "IPY_MODEL_e1fc09c43f304fc29b464a8ce68f0173",
      "value": 483
     }
    },
    "c62ada27ae1d4a58a1f4a3eafdb64377": {
     "model_module": "@jupyter-widgets/controls",
     "model_module_version": "1.5.0",
     "model_name": "HTMLModel",
     "state": {
      "_dom_classes": [],
      "_model_module": "@jupyter-widgets/controls",
      "_model_module_version": "1.5.0",
      "_model_name": "HTMLModel",
      "_view_count": null,
      "_view_module": "@jupyter-widgets/controls",
      "_view_module_version": "1.5.0",
      "_view_name": "HTMLView",
      "description": "",
      "description_tooltip": null,
      "layout": "IPY_MODEL_952c5099877045b398fdc2d2aee10795",
      "placeholder": "​",
      "style": "IPY_MODEL_c2c7a23dbbef4533835cb58807a82abd",
      "value": "Downloading: 100%"
     }
    },
    "c7c9708d67754a03a8703f21baf9d066": {
     "model_module": "@jupyter-widgets/controls",
     "model_module_version": "1.5.0",
     "model_name": "HTMLModel",
     "state": {
      "_dom_classes": [],
      "_model_module": "@jupyter-widgets/controls",
      "_model_module_version": "1.5.0",
      "_model_name": "HTMLModel",
      "_view_count": null,
      "_view_module": "@jupyter-widgets/controls",
      "_view_module_version": "1.5.0",
      "_view_name": "HTMLView",
      "description": "",
      "description_tooltip": null,
      "layout": "IPY_MODEL_43492bcc268f4bf59f01668f9bf2b972",
      "placeholder": "​",
      "style": "IPY_MODEL_a98a878982a8497592515d338796e29b",
      "value": " 226k/226k [00:00&lt;00:00, 1.01MB/s]"
     }
    },
    "c8e47764c9574b5e851901c34b2a2581": {
     "model_module": "@jupyter-widgets/controls",
     "model_module_version": "1.5.0",
     "model_name": "HBoxModel",
     "state": {
      "_dom_classes": [],
      "_model_module": "@jupyter-widgets/controls",
      "_model_module_version": "1.5.0",
      "_model_name": "HBoxModel",
      "_view_count": null,
      "_view_module": "@jupyter-widgets/controls",
      "_view_module_version": "1.5.0",
      "_view_name": "HBoxView",
      "box_style": "",
      "children": [
       "IPY_MODEL_0530894a0a324225bb27f9c0cb3b7b2d",
       "IPY_MODEL_3c06206f7f1b4030a2d43d323bc4d715",
       "IPY_MODEL_c7c9708d67754a03a8703f21baf9d066"
      ],
      "layout": "IPY_MODEL_811e1474409a43de965563163bfd0ff3"
     }
    },
    "cffeacd35efb4313a2b16cbc3cc70e11": {
     "model_module": "@jupyter-widgets/controls",
     "model_module_version": "1.5.0",
     "model_name": "HBoxModel",
     "state": {
      "_dom_classes": [],
      "_model_module": "@jupyter-widgets/controls",
      "_model_module_version": "1.5.0",
      "_model_name": "HBoxModel",
      "_view_count": null,
      "_view_module": "@jupyter-widgets/controls",
      "_view_module_version": "1.5.0",
      "_view_name": "HBoxView",
      "box_style": "",
      "children": [
       "IPY_MODEL_385a8374f3d04a29b70f406060a3fc1c",
       "IPY_MODEL_44362691729c479988889888f0f68136",
       "IPY_MODEL_5fc387b61c5c4a0a9676aa5ea991b617"
      ],
      "layout": "IPY_MODEL_840702903fa04cc289a940e3f543506b"
     }
    },
    "d25f3dc4b08843a2b24f74e2d6a9f200": {
     "model_module": "@jupyter-widgets/controls",
     "model_module_version": "1.5.0",
     "model_name": "DescriptionStyleModel",
     "state": {
      "_model_module": "@jupyter-widgets/controls",
      "_model_module_version": "1.5.0",
      "_model_name": "DescriptionStyleModel",
      "_view_count": null,
      "_view_module": "@jupyter-widgets/base",
      "_view_module_version": "1.2.0",
      "_view_name": "StyleView",
      "description_width": ""
     }
    },
    "ddb220350d5e42009dcef120ab208c95": {
     "model_module": "@jupyter-widgets/controls",
     "model_module_version": "1.5.0",
     "model_name": "DescriptionStyleModel",
     "state": {
      "_model_module": "@jupyter-widgets/controls",
      "_model_module_version": "1.5.0",
      "_model_name": "DescriptionStyleModel",
      "_view_count": null,
      "_view_module": "@jupyter-widgets/base",
      "_view_module_version": "1.2.0",
      "_view_name": "StyleView",
      "description_width": ""
     }
    },
    "ddc35c52a3704ba4a5c56cdfd617c08d": {
     "model_module": "@jupyter-widgets/controls",
     "model_module_version": "1.5.0",
     "model_name": "HTMLModel",
     "state": {
      "_dom_classes": [],
      "_model_module": "@jupyter-widgets/controls",
      "_model_module_version": "1.5.0",
      "_model_name": "HTMLModel",
      "_view_count": null,
      "_view_module": "@jupyter-widgets/controls",
      "_view_module_version": "1.5.0",
      "_view_name": "HTMLView",
      "description": "",
      "description_tooltip": null,
      "layout": "IPY_MODEL_13dad6e7c93e45a9a09570e2d5c01629",
      "placeholder": "​",
      "style": "IPY_MODEL_89a0842e4e584b54b63f2289c495c8cf",
      "value": " 455k/455k [00:00&lt;00:00, 1.58MB/s]"
     }
    },
    "e09f922e761446ae9f24b3907fdfb811": {
     "model_module": "@jupyter-widgets/base",
     "model_module_version": "1.2.0",
     "model_name": "LayoutModel",
     "state": {
      "_model_module": "@jupyter-widgets/base",
      "_model_module_version": "1.2.0",
      "_model_name": "LayoutModel",
      "_view_count": null,
      "_view_module": "@jupyter-widgets/base",
      "_view_module_version": "1.2.0",
      "_view_name": "LayoutView",
      "align_content": null,
      "align_items": null,
      "align_self": null,
      "border": null,
      "bottom": null,
      "display": null,
      "flex": null,
      "flex_flow": null,
      "grid_area": null,
      "grid_auto_columns": null,
      "grid_auto_flow": null,
      "grid_auto_rows": null,
      "grid_column": null,
      "grid_gap": null,
      "grid_row": null,
      "grid_template_areas": null,
      "grid_template_columns": null,
      "grid_template_rows": null,
      "height": null,
      "justify_content": null,
      "justify_items": null,
      "left": null,
      "margin": null,
      "max_height": null,
      "max_width": null,
      "min_height": null,
      "min_width": null,
      "object_fit": null,
      "object_position": null,
      "order": null,
      "overflow": null,
      "overflow_x": null,
      "overflow_y": null,
      "padding": null,
      "right": null,
      "top": null,
      "visibility": null,
      "width": null
     }
    },
    "e1fc09c43f304fc29b464a8ce68f0173": {
     "model_module": "@jupyter-widgets/controls",
     "model_module_version": "1.5.0",
     "model_name": "ProgressStyleModel",
     "state": {
      "_model_module": "@jupyter-widgets/controls",
      "_model_module_version": "1.5.0",
      "_model_name": "ProgressStyleModel",
      "_view_count": null,
      "_view_module": "@jupyter-widgets/base",
      "_view_module_version": "1.2.0",
      "_view_name": "StyleView",
      "bar_color": null,
      "description_width": ""
     }
    },
    "f327403983de4e34bc3b71d8e849ff97": {
     "model_module": "@jupyter-widgets/controls",
     "model_module_version": "1.5.0",
     "model_name": "ProgressStyleModel",
     "state": {
      "_model_module": "@jupyter-widgets/controls",
      "_model_module_version": "1.5.0",
      "_model_name": "ProgressStyleModel",
      "_view_count": null,
      "_view_module": "@jupyter-widgets/base",
      "_view_module_version": "1.2.0",
      "_view_name": "StyleView",
      "bar_color": null,
      "description_width": ""
     }
    },
    "f42dc9551fa442b7900388d376c312bc": {
     "model_module": "@jupyter-widgets/controls",
     "model_module_version": "1.5.0",
     "model_name": "ProgressStyleModel",
     "state": {
      "_model_module": "@jupyter-widgets/controls",
      "_model_module_version": "1.5.0",
      "_model_name": "ProgressStyleModel",
      "_view_count": null,
      "_view_module": "@jupyter-widgets/base",
      "_view_module_version": "1.2.0",
      "_view_name": "StyleView",
      "bar_color": null,
      "description_width": ""
     }
    }
   }
  }
 },
 "nbformat": 4,
 "nbformat_minor": 1
}
